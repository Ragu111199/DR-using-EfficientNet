{
  "nbformat": 4,
  "nbformat_minor": 0,
  "metadata": {
    "colab": {
      "name": "XGboost.ipynb",
      "provenance": []
    },
    "kernelspec": {
      "name": "python3",
      "display_name": "Python 3"
    },
    "language_info": {
      "name": "python"
    }
  },
  "cells": [
    {
      "cell_type": "code",
      "metadata": {
        "colab": {
          "base_uri": "https://localhost:8080/"
        },
        "id": "OV6pHBpwYMG8",
        "outputId": "299a150d-784b-4b26-85dd-4db7f807ef1f"
      },
      "source": [
        "from google.colab import drive\n",
        "drive.mount('/content/drive')"
      ],
      "execution_count": null,
      "outputs": [
        {
          "output_type": "stream",
          "text": [
            "Drive already mounted at /content/drive; to attempt to forcibly remount, call drive.mount(\"/content/drive\", force_remount=True).\n"
          ],
          "name": "stdout"
        }
      ]
    },
    {
      "cell_type": "code",
      "metadata": {
        "id": "5CeSEX_wYa7y"
      },
      "source": [
        "import os"
      ],
      "execution_count": 41,
      "outputs": []
    },
    {
      "cell_type": "code",
      "metadata": {
        "colab": {
          "base_uri": "https://localhost:8080/",
          "height": 35
        },
        "id": "PzWXGDolYfgU",
        "outputId": "248fd028-c666-4bc1-bc2e-e822628f57c4"
      },
      "source": [
        "os.getcwd()"
      ],
      "execution_count": null,
      "outputs": [
        {
          "output_type": "execute_result",
          "data": {
            "application/vnd.google.colaboratory.intrinsic+json": {
              "type": "string"
            },
            "text/plain": [
              "'/content'"
            ]
          },
          "metadata": {
            "tags": []
          },
          "execution_count": 4
        }
      ]
    },
    {
      "cell_type": "code",
      "metadata": {
        "id": "83kWkJbsYitX"
      },
      "source": [
        "os.chdir(\"/content/drive/MyDrive\")"
      ],
      "execution_count": 2,
      "outputs": []
    },
    {
      "cell_type": "markdown",
      "metadata": {
        "id": "7e7dPt1sY6Dy"
      },
      "source": [
        "Load data into the pickle file"
      ]
    },
    {
      "cell_type": "code",
      "metadata": {
        "colab": {
          "base_uri": "https://localhost:8080/"
        },
        "id": "W7OtTvBFY5AY",
        "outputId": "a50dc39d-7b27-4a1f-a3f5-25559d3f545b"
      },
      "source": [
        "try:\n",
        "\n",
        "    import tensorflow as tf\n",
        "    import cv2\n",
        "    import os\n",
        "    import pickle\n",
        "    import numpy as np\n",
        "    print(\"Library Loaded Successfully ..........\")\n",
        "except:\n",
        "    print(\"Library not Found ! \")\n",
        "\n",
        "\n",
        "class MasterImage(object):\n",
        "\n",
        "    def __init__(self,PATH='', IMAGE_SIZE = 50):\n",
        "        self.PATH = PATH\n",
        "        self.IMAGE_SIZE = IMAGE_SIZE\n",
        "\n",
        "        self.image_data = []\n",
        "        self.x_data = []\n",
        "        self.y_data = []\n",
        "        self.CATEGORIES = []\n",
        "\n",
        "        # This will get List of categories\n",
        "        self.list_categories = []\n",
        "\n",
        "    def get_categories(self):\n",
        "        for path in os.listdir(self.PATH):\n",
        "            if '.DS_Store' in path:\n",
        "                pass\n",
        "            else:\n",
        "                self.list_categories.append(path)\n",
        "        print(\"Found Categories \",self.list_categories,'\\n')\n",
        "        return self.list_categories\n",
        "\n",
        "    def Process_Image(self):\n",
        "        try:\n",
        "            \"\"\"\n",
        "            Return Numpy array of image\n",
        "            :return: X_Data, Y_Data\n",
        "            \"\"\"\n",
        "            self.CATEGORIES = self.get_categories()\n",
        "            for categories in self.CATEGORIES:                                                  # Iterate over categories\n",
        "\n",
        "                train_folder_path = os.path.join(self.PATH, categories)                         # Folder Path\n",
        "                class_index = self.CATEGORIES.index(categories)                                 # this will get index for classification\n",
        "\n",
        "                for img in os.listdir(train_folder_path):                                       # This will iterate in the Folder\n",
        "                    new_path = os.path.join(train_folder_path, img)                             # image Path\n",
        "\n",
        "                    try:        # if any image is corrupted\n",
        "                        image_data_temp = cv2.imread(new_path,cv2.IMREAD_GRAYSCALE)                 # Read Image as numbers\n",
        "                        image_temp_resize = cv2.resize(image_data_temp,(self.IMAGE_SIZE,self.IMAGE_SIZE))\n",
        "                        self.image_data.append([image_temp_resize,class_index])\n",
        "                    except:\n",
        "                        pass\n",
        "\n",
        "            data = np.asanyarray(self.image_data)\n",
        "\n",
        "            # Iterate over the Data\n",
        "            for x in data:\n",
        "                self.x_data.append(x[0])        # Get the X_Data\n",
        "                self.y_data.append(x[1])        # get the label\n",
        "\n",
        "            X_Data = np.asarray(self.x_data) / (255.0)      # Normalize Data\n",
        "            Y_Data = np.asarray(self.y_data)\n",
        "\n",
        "            # reshape x_Data\n",
        "\n",
        "            X_Data = X_Data.reshape(-1, self.IMAGE_SIZE, self.IMAGE_SIZE, 1)\n",
        "\n",
        "            return X_Data, Y_Data\n",
        "        except:\n",
        "            print(\"Failed to run Function Process Image \")\n",
        "\n",
        "    def pickle_image(self):\n",
        "\n",
        "        \"\"\"\n",
        "        :return: None Creates a Pickle Object of DataSet\n",
        "        \"\"\"\n",
        "        # Call the Function and Get the Data\n",
        "        X_Data,Y_Data = self.Process_Image()\n",
        "\n",
        "        # Write the Entire Data into a Pickle File\n",
        "        pickle_out = open('X_Data','wb')\n",
        "        pickle.dump(X_Data, pickle_out)\n",
        "        pickle_out.close()\n",
        "\n",
        "        # Write the Y Label Data\n",
        "        pickle_out = open('Y_Data', 'wb')\n",
        "        pickle.dump(Y_Data, pickle_out)\n",
        "        pickle_out.close()\n",
        "\n",
        "        print(\"Pickled Image Successfully \")\n",
        "        return X_Data,Y_Data\n",
        "\n",
        "    def load_dataset(self):\n",
        "\n",
        "        try:\n",
        "            # Read the Data from Pickle Object\n",
        "            X_Temp = open('X_Data','rb')\n",
        "            X_Data = pickle.load(X_Temp)\n",
        "\n",
        "            Y_Temp = open('Y_Data','rb')\n",
        "            Y_Data = pickle.load(Y_Temp)\n",
        "\n",
        "            print('Reading Dataset from PIckle Object')\n",
        "\n",
        "            return X_Data,Y_Data\n",
        "\n",
        "        except:\n",
        "            print('Could not Found Pickle File ')\n",
        "            print('Loading File and Dataset  ..........')\n",
        "\n",
        "            X_Data,Y_Data = self.pickle_image()\n",
        "            return X_Data,Y_Data\n",
        "\n",
        "\n",
        "\n"
      ],
      "execution_count": null,
      "outputs": [
        {
          "output_type": "stream",
          "text": [
            "Library Loaded Successfully ..........\n"
          ],
          "name": "stdout"
        }
      ]
    },
    {
      "cell_type": "code",
      "metadata": {
        "colab": {
          "base_uri": "https://localhost:8080/"
        },
        "id": "mQin9QV6ZN9E",
        "outputId": "5e446207-5a35-4c08-e70e-b717c2991449"
      },
      "source": [
        "if __name__ == \"__main__\":\n",
        "    path = '/content/drive/MyDrive/DR'\n",
        "    a = MasterImage(PATH=path,\n",
        "                    IMAGE_SIZE=224)\n",
        "\n",
        "    X_Data,Y_Data = a.load_dataset()\n",
        "    print(X_Data.shape)"
      ],
      "execution_count": null,
      "outputs": [
        {
          "output_type": "stream",
          "text": [
            "Could not Found Pickle File \n",
            "Loading File and Dataset  ..........\n",
            "Found Categories  ['DR3', 'DR2', 'DR4', 'DR1', 'DR0'] \n",
            "\n"
          ],
          "name": "stdout"
        },
        {
          "output_type": "stream",
          "text": [
            "/usr/local/lib/python3.7/dist-packages/numpy/core/_asarray.py:136: VisibleDeprecationWarning: Creating an ndarray from ragged nested sequences (which is a list-or-tuple of lists-or-tuples-or ndarrays with different lengths or shapes) is deprecated. If you meant to do this, you must specify 'dtype=object' when creating the ndarray\n",
            "  return array(a, dtype, copy=False, order=order, subok=True)\n"
          ],
          "name": "stderr"
        },
        {
          "output_type": "stream",
          "text": [
            "Pickled Image Successfully \n",
            "(413, 224, 224, 1)\n"
          ],
          "name": "stdout"
        }
      ]
    },
    {
      "cell_type": "code",
      "metadata": {
        "colab": {
          "base_uri": "https://localhost:8080/"
        },
        "id": "UdMrNnGJA8lO",
        "outputId": "19e0ba15-d47f-4649-ca8e-e61a6ef36e62"
      },
      "source": [
        "if __name__ == \"__main__\":\n",
        "    path = '/content/drive/MyDrive/DR_test'\n",
        "    a = MasterImage(PATH=path,\n",
        "                    IMAGE_SIZE=224)\n",
        "\n",
        "    X_Data,Y_Data = a.load_dataset()\n",
        "    print(X_Data.shape)"
      ],
      "execution_count": null,
      "outputs": [
        {
          "output_type": "stream",
          "text": [
            "Could not Found Pickle File \n",
            "Loading File and Dataset  ..........\n",
            "Found Categories  ['DR0', 'DR1', 'DR2', 'DR3', 'DR4'] \n",
            "\n",
            "Pickled Image Successfully \n",
            "(103, 224, 224, 1)\n"
          ],
          "name": "stdout"
        },
        {
          "output_type": "stream",
          "text": [
            "/usr/local/lib/python3.7/dist-packages/numpy/core/_asarray.py:136: VisibleDeprecationWarning: Creating an ndarray from ragged nested sequences (which is a list-or-tuple of lists-or-tuples-or ndarrays with different lengths or shapes) is deprecated. If you meant to do this, you must specify 'dtype=object' when creating the ndarray\n",
            "  return array(a, dtype, copy=False, order=order, subok=True)\n"
          ],
          "name": "stderr"
        }
      ]
    },
    {
      "cell_type": "markdown",
      "metadata": {
        "id": "bLSu_alsDZGm"
      },
      "source": [
        "load all the data files as pickle file"
      ]
    },
    {
      "cell_type": "code",
      "metadata": {
        "id": "VHNiEX5cCRvs"
      },
      "source": [
        "import pickle\n",
        "# loading training dataset\n",
        "X_Temp = open('X_Data','rb')\n",
        "X_Data = pickle.load(X_Temp)\n",
        "\n",
        "Y_Temp = open('Y_Data','rb')\n",
        "Y_Data = pickle.load(Y_Temp)"
      ],
      "execution_count": 3,
      "outputs": []
    },
    {
      "cell_type": "code",
      "metadata": {
        "id": "LTZ8DetrxLt3"
      },
      "source": [
        "# Split the data into train and test \n",
        "from sklearn.model_selection import train_test_split\n",
        "\n",
        "random_state = 40\n",
        "X_train, X_test, y_train, y_test = train_test_split(\n",
        "    X_Data, Y_Data, test_size=0.2, random_state=random_state)"
      ],
      "execution_count": 4,
      "outputs": []
    },
    {
      "cell_type": "code",
      "metadata": {
        "colab": {
          "base_uri": "https://localhost:8080/"
        },
        "id": "YNLSLODyyIxl",
        "outputId": "3311e6cf-dfdb-40c2-c6de-64620a2a0ce7"
      },
      "source": [
        "print(X_train.shape)"
      ],
      "execution_count": 5,
      "outputs": [
        {
          "output_type": "stream",
          "text": [
            "(330, 224, 224, 1)\n"
          ],
          "name": "stdout"
        }
      ]
    },
    {
      "cell_type": "code",
      "metadata": {
        "id": "LUHXBDhAg4QI",
        "colab": {
          "base_uri": "https://localhost:8080/",
          "height": 52
        },
        "outputId": "405105a8-7734-407c-fd9d-beea75db33e0"
      },
      "source": [
        "from scipy.ndimage.interpolation import rotate\n",
        "import cv2\n",
        "import numpy as np\n",
        "import random\n",
        "\n",
        "def flip_v(image):\n",
        "  flipped_h = np.flipud(image)\n",
        "  return flipped_v\n",
        "\n",
        "def flip_h(image):\n",
        "  flipped_h = np.fliplr(image)\n",
        "  return flipped_h\n",
        "\n",
        "def random_rotation(image):\n",
        "  random_angle = random.randint(-25,25)\n",
        "  rotated_image = rotate(image,random_angle)\n",
        "  return rotated_image \n",
        "\n",
        "# Creating Augmented Dataset\n",
        "X_train_augmented = [image for image in X_train]\n",
        "y_train_augmented = [image for image in y_train]\n",
        "\n",
        "for image,label in zip(X_train,y_train):\n",
        "  X_train_augmented.append(flip_h(image))\n",
        "  y_train_augmented.append(label)\n",
        "for image,label in zip(X_train,y_train):\n",
        "  X_train_augmented.append(flip_h(image))\n",
        "  y_train_augmented.append(label)\n",
        "\"\"\"for image,label in zip(X_train,y_train):\n",
        "  X_train_augmented.append(random_rotation(image))\n",
        "  y_train_augmented.append(label)\"\"\"\n"
      ],
      "execution_count": 11,
      "outputs": [
        {
          "output_type": "execute_result",
          "data": {
            "application/vnd.google.colaboratory.intrinsic+json": {
              "type": "string"
            },
            "text/plain": [
              "'for image,label in zip(X_train,y_train):\\n  X_train_augmented.append(random_rotation(image))\\n  y_train_augmented.append(label)'"
            ]
          },
          "metadata": {
            "tags": []
          },
          "execution_count": 11
        }
      ]
    },
    {
      "cell_type": "code",
      "metadata": {
        "id": "vBow2VlSk2W2"
      },
      "source": [
        "X_train_augmented = np.array(X_train_augmented)\n",
        "y_train_augmented = np.array(y_train_augmented)"
      ],
      "execution_count": 22,
      "outputs": []
    },
    {
      "cell_type": "code",
      "metadata": {
        "colab": {
          "base_uri": "https://localhost:8080/"
        },
        "id": "iANztOxLr4q1",
        "outputId": "c12baea3-5e82-47b1-fc92-a551c3a2f0a2"
      },
      "source": [
        "X_train_augmented.shape"
      ],
      "execution_count": 8,
      "outputs": [
        {
          "output_type": "execute_result",
          "data": {
            "text/plain": [
              "(990, 224, 224, 1)"
            ]
          },
          "metadata": {
            "tags": []
          },
          "execution_count": 8
        }
      ]
    },
    {
      "cell_type": "code",
      "metadata": {
        "id": "As0PQnDOmzV2"
      },
      "source": [
        "X_Validate =[]\n",
        "X_Validate.append(X_Data[0])\n",
        "X_Validate.append(X_Data[50])\n",
        "X_Validate.append(X_Data[111])\n",
        "X_Validate.append(X_Data[200])\n",
        "X_Validate.append(X_train_augmented[380])\n",
        "X_Validate.append(X_train_augmented[522])\n",
        "X_Validate.append(X_train_augmented[850])\n",
        "X_Validate.append(X_train_augmented[144])\n",
        "X_Validate.append(X_test[30])\n",
        "X_Validate.append(X_test[54])\n",
        "\n"
      ],
      "execution_count": 28,
      "outputs": []
    },
    {
      "cell_type": "code",
      "metadata": {
        "colab": {
          "base_uri": "https://localhost:8080/"
        },
        "id": "awsFBygzp9uR",
        "outputId": "1ce00da4-a2ac-4dd9-8211-c9c7a54de593"
      },
      "source": [
        "X_Validate = np.array(X_Validate)\n",
        "X_Validate.shape"
      ],
      "execution_count": 29,
      "outputs": [
        {
          "output_type": "execute_result",
          "data": {
            "text/plain": [
              "(10, 224, 224, 1)"
            ]
          },
          "metadata": {
            "tags": []
          },
          "execution_count": 29
        }
      ]
    },
    {
      "cell_type": "code",
      "metadata": {
        "colab": {
          "base_uri": "https://localhost:8080/"
        },
        "id": "kAhKJOrWri2g",
        "outputId": "6ffe330a-f65b-4264-ad9f-782112e48d3f"
      },
      "source": [
        "Y_Validate = np.array(Y_Validate)\n",
        "Y_Validate.shape\n",
        "Y_Validate"
      ],
      "execution_count": 32,
      "outputs": [
        {
          "output_type": "execute_result",
          "data": {
            "text/plain": [
              "array([0, 0, 1, 1, 1, 4, 1, 2, 2, 0])"
            ]
          },
          "metadata": {
            "tags": []
          },
          "execution_count": 32
        }
      ]
    },
    {
      "cell_type": "code",
      "metadata": {
        "id": "CQssI7zXrZHh"
      },
      "source": [
        "Y_Validate =[]\n",
        "Y_Validate.append(Y_Data[0])\n",
        "Y_Validate.append(Y_Data[50])\n",
        "Y_Validate.append(Y_Data[111])\n",
        "Y_Validate.append(Y_Data[200])\n",
        "Y_Validate.append(y_train_augmented[380])\n",
        "Y_Validate.append(y_train_augmented[522])\n",
        "Y_Validate.append(y_train_augmented[850])\n",
        "Y_Validate.append(y_train_augmented[144])\n",
        "Y_Validate.append(y_test[30])\n",
        "Y_Validate.append(y_test[54])"
      ],
      "execution_count": 31,
      "outputs": []
    },
    {
      "cell_type": "markdown",
      "metadata": {
        "id": "Kaz-YyBifGKZ"
      },
      "source": [
        "Augment All the images using the Training images"
      ]
    },
    {
      "cell_type": "code",
      "metadata": {
        "id": "D8hxqlIQcrJF"
      },
      "source": [
        "from tensorflow.keras.preprocessing.image import ImageDataGenerator\n",
        "\n",
        "train_gen = ImageDataGenerator(\n",
        "    rotation_range =50,\n",
        "    horizontal_flip = True,\n",
        "    vertical_flip = True,\n",
        "    rescale =1./255,\n",
        "    shear_range =0.5,\n",
        "    zoom_range =(0.2,0.6)\n",
        ")\n"
      ],
      "execution_count": null,
      "outputs": []
    },
    {
      "cell_type": "code",
      "metadata": {
        "id": "MPhgSkr5f2jl"
      },
      "source": [
        "train_gen.fit(X_train)\n",
        "\n"
      ],
      "execution_count": null,
      "outputs": []
    },
    {
      "cell_type": "code",
      "metadata": {
        "id": "3x59_X4HjU44"
      },
      "source": [
        "from tensorflow.keras.applications import EfficientNetB0\n",
        "\n",
        "EFNB0 = EfficientNetB0(weights='train_2.h5',include_top=False,input_shape=(224,224,1))\n"
      ],
      "execution_count": 20,
      "outputs": []
    },
    {
      "cell_type": "code",
      "metadata": {
        "colab": {
          "base_uri": "https://localhost:8080/"
        },
        "id": "_-GP93_tv3Cr",
        "outputId": "f21310bd-18b6-4d07-afbe-e124d8410894"
      },
      "source": [
        "print(EFNB0)"
      ],
      "execution_count": null,
      "outputs": [
        {
          "output_type": "stream",
          "text": [
            "<tensorflow.python.keras.engine.functional.Functional object at 0x7faa4592de50>\n"
          ],
          "name": "stdout"
        }
      ]
    },
    {
      "cell_type": "code",
      "metadata": {
        "colab": {
          "base_uri": "https://localhost:8080/",
          "height": 35
        },
        "id": "tqfRo_UIyidL",
        "outputId": "00ba9851-e6a6-42f2-bc0b-49523a77e9f6"
      },
      "source": [
        "import os\n",
        "os.getcwd()"
      ],
      "execution_count": null,
      "outputs": [
        {
          "output_type": "execute_result",
          "data": {
            "application/vnd.google.colaboratory.intrinsic+json": {
              "type": "string"
            },
            "text/plain": [
              "'/content/drive/My Drive'"
            ]
          },
          "metadata": {
            "tags": []
          },
          "execution_count": 92
        }
      ]
    },
    {
      "cell_type": "code",
      "metadata": {
        "id": "ifGu1nnKyQTd"
      },
      "source": [
        "EFNB0.save_weights('train_2.h5')"
      ],
      "execution_count": null,
      "outputs": []
    },
    {
      "cell_type": "code",
      "metadata": {
        "colab": {
          "base_uri": "https://localhost:8080/"
        },
        "id": "qbDG52krpfpI",
        "outputId": "fbd8dfcb-80a1-48e7-b689-c36cc8fbb399"
      },
      "source": [
        "EFNB0.summary()"
      ],
      "execution_count": null,
      "outputs": [
        {
          "output_type": "stream",
          "text": [
            "Model: \"efficientnetb0\"\n",
            "__________________________________________________________________________________________________\n",
            "Layer (type)                    Output Shape         Param #     Connected to                     \n",
            "==================================================================================================\n",
            "input_2 (InputLayer)            [(None, 224, 224, 3) 0                                            \n",
            "__________________________________________________________________________________________________\n",
            "rescaling_1 (Rescaling)         (None, 224, 224, 3)  0           input_2[0][0]                    \n",
            "__________________________________________________________________________________________________\n",
            "normalization_1 (Normalization) (None, 224, 224, 3)  7           rescaling_1[0][0]                \n",
            "__________________________________________________________________________________________________\n",
            "stem_conv_pad (ZeroPadding2D)   (None, 225, 225, 3)  0           normalization_1[0][0]            \n",
            "__________________________________________________________________________________________________\n",
            "stem_conv (Conv2D)              (None, 112, 112, 32) 864         stem_conv_pad[0][0]              \n",
            "__________________________________________________________________________________________________\n",
            "stem_bn (BatchNormalization)    (None, 112, 112, 32) 128         stem_conv[0][0]                  \n",
            "__________________________________________________________________________________________________\n",
            "stem_activation (Activation)    (None, 112, 112, 32) 0           stem_bn[0][0]                    \n",
            "__________________________________________________________________________________________________\n",
            "block1a_dwconv (DepthwiseConv2D (None, 112, 112, 32) 288         stem_activation[0][0]            \n",
            "__________________________________________________________________________________________________\n",
            "block1a_bn (BatchNormalization) (None, 112, 112, 32) 128         block1a_dwconv[0][0]             \n",
            "__________________________________________________________________________________________________\n",
            "block1a_activation (Activation) (None, 112, 112, 32) 0           block1a_bn[0][0]                 \n",
            "__________________________________________________________________________________________________\n",
            "block1a_se_squeeze (GlobalAvera (None, 32)           0           block1a_activation[0][0]         \n",
            "__________________________________________________________________________________________________\n",
            "block1a_se_reshape (Reshape)    (None, 1, 1, 32)     0           block1a_se_squeeze[0][0]         \n",
            "__________________________________________________________________________________________________\n",
            "block1a_se_reduce (Conv2D)      (None, 1, 1, 8)      264         block1a_se_reshape[0][0]         \n",
            "__________________________________________________________________________________________________\n",
            "block1a_se_expand (Conv2D)      (None, 1, 1, 32)     288         block1a_se_reduce[0][0]          \n",
            "__________________________________________________________________________________________________\n",
            "block1a_se_excite (Multiply)    (None, 112, 112, 32) 0           block1a_activation[0][0]         \n",
            "                                                                 block1a_se_expand[0][0]          \n",
            "__________________________________________________________________________________________________\n",
            "block1a_project_conv (Conv2D)   (None, 112, 112, 16) 512         block1a_se_excite[0][0]          \n",
            "__________________________________________________________________________________________________\n",
            "block1a_project_bn (BatchNormal (None, 112, 112, 16) 64          block1a_project_conv[0][0]       \n",
            "__________________________________________________________________________________________________\n",
            "block2a_expand_conv (Conv2D)    (None, 112, 112, 96) 1536        block1a_project_bn[0][0]         \n",
            "__________________________________________________________________________________________________\n",
            "block2a_expand_bn (BatchNormali (None, 112, 112, 96) 384         block2a_expand_conv[0][0]        \n",
            "__________________________________________________________________________________________________\n",
            "block2a_expand_activation (Acti (None, 112, 112, 96) 0           block2a_expand_bn[0][0]          \n",
            "__________________________________________________________________________________________________\n",
            "block2a_dwconv_pad (ZeroPadding (None, 113, 113, 96) 0           block2a_expand_activation[0][0]  \n",
            "__________________________________________________________________________________________________\n",
            "block2a_dwconv (DepthwiseConv2D (None, 56, 56, 96)   864         block2a_dwconv_pad[0][0]         \n",
            "__________________________________________________________________________________________________\n",
            "block2a_bn (BatchNormalization) (None, 56, 56, 96)   384         block2a_dwconv[0][0]             \n",
            "__________________________________________________________________________________________________\n",
            "block2a_activation (Activation) (None, 56, 56, 96)   0           block2a_bn[0][0]                 \n",
            "__________________________________________________________________________________________________\n",
            "block2a_se_squeeze (GlobalAvera (None, 96)           0           block2a_activation[0][0]         \n",
            "__________________________________________________________________________________________________\n",
            "block2a_se_reshape (Reshape)    (None, 1, 1, 96)     0           block2a_se_squeeze[0][0]         \n",
            "__________________________________________________________________________________________________\n",
            "block2a_se_reduce (Conv2D)      (None, 1, 1, 4)      388         block2a_se_reshape[0][0]         \n",
            "__________________________________________________________________________________________________\n",
            "block2a_se_expand (Conv2D)      (None, 1, 1, 96)     480         block2a_se_reduce[0][0]          \n",
            "__________________________________________________________________________________________________\n",
            "block2a_se_excite (Multiply)    (None, 56, 56, 96)   0           block2a_activation[0][0]         \n",
            "                                                                 block2a_se_expand[0][0]          \n",
            "__________________________________________________________________________________________________\n",
            "block2a_project_conv (Conv2D)   (None, 56, 56, 24)   2304        block2a_se_excite[0][0]          \n",
            "__________________________________________________________________________________________________\n",
            "block2a_project_bn (BatchNormal (None, 56, 56, 24)   96          block2a_project_conv[0][0]       \n",
            "__________________________________________________________________________________________________\n",
            "block2b_expand_conv (Conv2D)    (None, 56, 56, 144)  3456        block2a_project_bn[0][0]         \n",
            "__________________________________________________________________________________________________\n",
            "block2b_expand_bn (BatchNormali (None, 56, 56, 144)  576         block2b_expand_conv[0][0]        \n",
            "__________________________________________________________________________________________________\n",
            "block2b_expand_activation (Acti (None, 56, 56, 144)  0           block2b_expand_bn[0][0]          \n",
            "__________________________________________________________________________________________________\n",
            "block2b_dwconv (DepthwiseConv2D (None, 56, 56, 144)  1296        block2b_expand_activation[0][0]  \n",
            "__________________________________________________________________________________________________\n",
            "block2b_bn (BatchNormalization) (None, 56, 56, 144)  576         block2b_dwconv[0][0]             \n",
            "__________________________________________________________________________________________________\n",
            "block2b_activation (Activation) (None, 56, 56, 144)  0           block2b_bn[0][0]                 \n",
            "__________________________________________________________________________________________________\n",
            "block2b_se_squeeze (GlobalAvera (None, 144)          0           block2b_activation[0][0]         \n",
            "__________________________________________________________________________________________________\n",
            "block2b_se_reshape (Reshape)    (None, 1, 1, 144)    0           block2b_se_squeeze[0][0]         \n",
            "__________________________________________________________________________________________________\n",
            "block2b_se_reduce (Conv2D)      (None, 1, 1, 6)      870         block2b_se_reshape[0][0]         \n",
            "__________________________________________________________________________________________________\n",
            "block2b_se_expand (Conv2D)      (None, 1, 1, 144)    1008        block2b_se_reduce[0][0]          \n",
            "__________________________________________________________________________________________________\n",
            "block2b_se_excite (Multiply)    (None, 56, 56, 144)  0           block2b_activation[0][0]         \n",
            "                                                                 block2b_se_expand[0][0]          \n",
            "__________________________________________________________________________________________________\n",
            "block2b_project_conv (Conv2D)   (None, 56, 56, 24)   3456        block2b_se_excite[0][0]          \n",
            "__________________________________________________________________________________________________\n",
            "block2b_project_bn (BatchNormal (None, 56, 56, 24)   96          block2b_project_conv[0][0]       \n",
            "__________________________________________________________________________________________________\n",
            "block2b_drop (Dropout)          (None, 56, 56, 24)   0           block2b_project_bn[0][0]         \n",
            "__________________________________________________________________________________________________\n",
            "block2b_add (Add)               (None, 56, 56, 24)   0           block2b_drop[0][0]               \n",
            "                                                                 block2a_project_bn[0][0]         \n",
            "__________________________________________________________________________________________________\n",
            "block3a_expand_conv (Conv2D)    (None, 56, 56, 144)  3456        block2b_add[0][0]                \n",
            "__________________________________________________________________________________________________\n",
            "block3a_expand_bn (BatchNormali (None, 56, 56, 144)  576         block3a_expand_conv[0][0]        \n",
            "__________________________________________________________________________________________________\n",
            "block3a_expand_activation (Acti (None, 56, 56, 144)  0           block3a_expand_bn[0][0]          \n",
            "__________________________________________________________________________________________________\n",
            "block3a_dwconv_pad (ZeroPadding (None, 59, 59, 144)  0           block3a_expand_activation[0][0]  \n",
            "__________________________________________________________________________________________________\n",
            "block3a_dwconv (DepthwiseConv2D (None, 28, 28, 144)  3600        block3a_dwconv_pad[0][0]         \n",
            "__________________________________________________________________________________________________\n",
            "block3a_bn (BatchNormalization) (None, 28, 28, 144)  576         block3a_dwconv[0][0]             \n",
            "__________________________________________________________________________________________________\n",
            "block3a_activation (Activation) (None, 28, 28, 144)  0           block3a_bn[0][0]                 \n",
            "__________________________________________________________________________________________________\n",
            "block3a_se_squeeze (GlobalAvera (None, 144)          0           block3a_activation[0][0]         \n",
            "__________________________________________________________________________________________________\n",
            "block3a_se_reshape (Reshape)    (None, 1, 1, 144)    0           block3a_se_squeeze[0][0]         \n",
            "__________________________________________________________________________________________________\n",
            "block3a_se_reduce (Conv2D)      (None, 1, 1, 6)      870         block3a_se_reshape[0][0]         \n",
            "__________________________________________________________________________________________________\n",
            "block3a_se_expand (Conv2D)      (None, 1, 1, 144)    1008        block3a_se_reduce[0][0]          \n",
            "__________________________________________________________________________________________________\n",
            "block3a_se_excite (Multiply)    (None, 28, 28, 144)  0           block3a_activation[0][0]         \n",
            "                                                                 block3a_se_expand[0][0]          \n",
            "__________________________________________________________________________________________________\n",
            "block3a_project_conv (Conv2D)   (None, 28, 28, 40)   5760        block3a_se_excite[0][0]          \n",
            "__________________________________________________________________________________________________\n",
            "block3a_project_bn (BatchNormal (None, 28, 28, 40)   160         block3a_project_conv[0][0]       \n",
            "__________________________________________________________________________________________________\n",
            "block3b_expand_conv (Conv2D)    (None, 28, 28, 240)  9600        block3a_project_bn[0][0]         \n",
            "__________________________________________________________________________________________________\n",
            "block3b_expand_bn (BatchNormali (None, 28, 28, 240)  960         block3b_expand_conv[0][0]        \n",
            "__________________________________________________________________________________________________\n",
            "block3b_expand_activation (Acti (None, 28, 28, 240)  0           block3b_expand_bn[0][0]          \n",
            "__________________________________________________________________________________________________\n",
            "block3b_dwconv (DepthwiseConv2D (None, 28, 28, 240)  6000        block3b_expand_activation[0][0]  \n",
            "__________________________________________________________________________________________________\n",
            "block3b_bn (BatchNormalization) (None, 28, 28, 240)  960         block3b_dwconv[0][0]             \n",
            "__________________________________________________________________________________________________\n",
            "block3b_activation (Activation) (None, 28, 28, 240)  0           block3b_bn[0][0]                 \n",
            "__________________________________________________________________________________________________\n",
            "block3b_se_squeeze (GlobalAvera (None, 240)          0           block3b_activation[0][0]         \n",
            "__________________________________________________________________________________________________\n",
            "block3b_se_reshape (Reshape)    (None, 1, 1, 240)    0           block3b_se_squeeze[0][0]         \n",
            "__________________________________________________________________________________________________\n",
            "block3b_se_reduce (Conv2D)      (None, 1, 1, 10)     2410        block3b_se_reshape[0][0]         \n",
            "__________________________________________________________________________________________________\n",
            "block3b_se_expand (Conv2D)      (None, 1, 1, 240)    2640        block3b_se_reduce[0][0]          \n",
            "__________________________________________________________________________________________________\n",
            "block3b_se_excite (Multiply)    (None, 28, 28, 240)  0           block3b_activation[0][0]         \n",
            "                                                                 block3b_se_expand[0][0]          \n",
            "__________________________________________________________________________________________________\n",
            "block3b_project_conv (Conv2D)   (None, 28, 28, 40)   9600        block3b_se_excite[0][0]          \n",
            "__________________________________________________________________________________________________\n",
            "block3b_project_bn (BatchNormal (None, 28, 28, 40)   160         block3b_project_conv[0][0]       \n",
            "__________________________________________________________________________________________________\n",
            "block3b_drop (Dropout)          (None, 28, 28, 40)   0           block3b_project_bn[0][0]         \n",
            "__________________________________________________________________________________________________\n",
            "block3b_add (Add)               (None, 28, 28, 40)   0           block3b_drop[0][0]               \n",
            "                                                                 block3a_project_bn[0][0]         \n",
            "__________________________________________________________________________________________________\n",
            "block4a_expand_conv (Conv2D)    (None, 28, 28, 240)  9600        block3b_add[0][0]                \n",
            "__________________________________________________________________________________________________\n",
            "block4a_expand_bn (BatchNormali (None, 28, 28, 240)  960         block4a_expand_conv[0][0]        \n",
            "__________________________________________________________________________________________________\n",
            "block4a_expand_activation (Acti (None, 28, 28, 240)  0           block4a_expand_bn[0][0]          \n",
            "__________________________________________________________________________________________________\n",
            "block4a_dwconv_pad (ZeroPadding (None, 29, 29, 240)  0           block4a_expand_activation[0][0]  \n",
            "__________________________________________________________________________________________________\n",
            "block4a_dwconv (DepthwiseConv2D (None, 14, 14, 240)  2160        block4a_dwconv_pad[0][0]         \n",
            "__________________________________________________________________________________________________\n",
            "block4a_bn (BatchNormalization) (None, 14, 14, 240)  960         block4a_dwconv[0][0]             \n",
            "__________________________________________________________________________________________________\n",
            "block4a_activation (Activation) (None, 14, 14, 240)  0           block4a_bn[0][0]                 \n",
            "__________________________________________________________________________________________________\n",
            "block4a_se_squeeze (GlobalAvera (None, 240)          0           block4a_activation[0][0]         \n",
            "__________________________________________________________________________________________________\n",
            "block4a_se_reshape (Reshape)    (None, 1, 1, 240)    0           block4a_se_squeeze[0][0]         \n",
            "__________________________________________________________________________________________________\n",
            "block4a_se_reduce (Conv2D)      (None, 1, 1, 10)     2410        block4a_se_reshape[0][0]         \n",
            "__________________________________________________________________________________________________\n",
            "block4a_se_expand (Conv2D)      (None, 1, 1, 240)    2640        block4a_se_reduce[0][0]          \n",
            "__________________________________________________________________________________________________\n",
            "block4a_se_excite (Multiply)    (None, 14, 14, 240)  0           block4a_activation[0][0]         \n",
            "                                                                 block4a_se_expand[0][0]          \n",
            "__________________________________________________________________________________________________\n",
            "block4a_project_conv (Conv2D)   (None, 14, 14, 80)   19200       block4a_se_excite[0][0]          \n",
            "__________________________________________________________________________________________________\n",
            "block4a_project_bn (BatchNormal (None, 14, 14, 80)   320         block4a_project_conv[0][0]       \n",
            "__________________________________________________________________________________________________\n",
            "block4b_expand_conv (Conv2D)    (None, 14, 14, 480)  38400       block4a_project_bn[0][0]         \n",
            "__________________________________________________________________________________________________\n",
            "block4b_expand_bn (BatchNormali (None, 14, 14, 480)  1920        block4b_expand_conv[0][0]        \n",
            "__________________________________________________________________________________________________\n",
            "block4b_expand_activation (Acti (None, 14, 14, 480)  0           block4b_expand_bn[0][0]          \n",
            "__________________________________________________________________________________________________\n",
            "block4b_dwconv (DepthwiseConv2D (None, 14, 14, 480)  4320        block4b_expand_activation[0][0]  \n",
            "__________________________________________________________________________________________________\n",
            "block4b_bn (BatchNormalization) (None, 14, 14, 480)  1920        block4b_dwconv[0][0]             \n",
            "__________________________________________________________________________________________________\n",
            "block4b_activation (Activation) (None, 14, 14, 480)  0           block4b_bn[0][0]                 \n",
            "__________________________________________________________________________________________________\n",
            "block4b_se_squeeze (GlobalAvera (None, 480)          0           block4b_activation[0][0]         \n",
            "__________________________________________________________________________________________________\n",
            "block4b_se_reshape (Reshape)    (None, 1, 1, 480)    0           block4b_se_squeeze[0][0]         \n",
            "__________________________________________________________________________________________________\n",
            "block4b_se_reduce (Conv2D)      (None, 1, 1, 20)     9620        block4b_se_reshape[0][0]         \n",
            "__________________________________________________________________________________________________\n",
            "block4b_se_expand (Conv2D)      (None, 1, 1, 480)    10080       block4b_se_reduce[0][0]          \n",
            "__________________________________________________________________________________________________\n",
            "block4b_se_excite (Multiply)    (None, 14, 14, 480)  0           block4b_activation[0][0]         \n",
            "                                                                 block4b_se_expand[0][0]          \n",
            "__________________________________________________________________________________________________\n",
            "block4b_project_conv (Conv2D)   (None, 14, 14, 80)   38400       block4b_se_excite[0][0]          \n",
            "__________________________________________________________________________________________________\n",
            "block4b_project_bn (BatchNormal (None, 14, 14, 80)   320         block4b_project_conv[0][0]       \n",
            "__________________________________________________________________________________________________\n",
            "block4b_drop (Dropout)          (None, 14, 14, 80)   0           block4b_project_bn[0][0]         \n",
            "__________________________________________________________________________________________________\n",
            "block4b_add (Add)               (None, 14, 14, 80)   0           block4b_drop[0][0]               \n",
            "                                                                 block4a_project_bn[0][0]         \n",
            "__________________________________________________________________________________________________\n",
            "block4c_expand_conv (Conv2D)    (None, 14, 14, 480)  38400       block4b_add[0][0]                \n",
            "__________________________________________________________________________________________________\n",
            "block4c_expand_bn (BatchNormali (None, 14, 14, 480)  1920        block4c_expand_conv[0][0]        \n",
            "__________________________________________________________________________________________________\n",
            "block4c_expand_activation (Acti (None, 14, 14, 480)  0           block4c_expand_bn[0][0]          \n",
            "__________________________________________________________________________________________________\n",
            "block4c_dwconv (DepthwiseConv2D (None, 14, 14, 480)  4320        block4c_expand_activation[0][0]  \n",
            "__________________________________________________________________________________________________\n",
            "block4c_bn (BatchNormalization) (None, 14, 14, 480)  1920        block4c_dwconv[0][0]             \n",
            "__________________________________________________________________________________________________\n",
            "block4c_activation (Activation) (None, 14, 14, 480)  0           block4c_bn[0][0]                 \n",
            "__________________________________________________________________________________________________\n",
            "block4c_se_squeeze (GlobalAvera (None, 480)          0           block4c_activation[0][0]         \n",
            "__________________________________________________________________________________________________\n",
            "block4c_se_reshape (Reshape)    (None, 1, 1, 480)    0           block4c_se_squeeze[0][0]         \n",
            "__________________________________________________________________________________________________\n",
            "block4c_se_reduce (Conv2D)      (None, 1, 1, 20)     9620        block4c_se_reshape[0][0]         \n",
            "__________________________________________________________________________________________________\n",
            "block4c_se_expand (Conv2D)      (None, 1, 1, 480)    10080       block4c_se_reduce[0][0]          \n",
            "__________________________________________________________________________________________________\n",
            "block4c_se_excite (Multiply)    (None, 14, 14, 480)  0           block4c_activation[0][0]         \n",
            "                                                                 block4c_se_expand[0][0]          \n",
            "__________________________________________________________________________________________________\n",
            "block4c_project_conv (Conv2D)   (None, 14, 14, 80)   38400       block4c_se_excite[0][0]          \n",
            "__________________________________________________________________________________________________\n",
            "block4c_project_bn (BatchNormal (None, 14, 14, 80)   320         block4c_project_conv[0][0]       \n",
            "__________________________________________________________________________________________________\n",
            "block4c_drop (Dropout)          (None, 14, 14, 80)   0           block4c_project_bn[0][0]         \n",
            "__________________________________________________________________________________________________\n",
            "block4c_add (Add)               (None, 14, 14, 80)   0           block4c_drop[0][0]               \n",
            "                                                                 block4b_add[0][0]                \n",
            "__________________________________________________________________________________________________\n",
            "block5a_expand_conv (Conv2D)    (None, 14, 14, 480)  38400       block4c_add[0][0]                \n",
            "__________________________________________________________________________________________________\n",
            "block5a_expand_bn (BatchNormali (None, 14, 14, 480)  1920        block5a_expand_conv[0][0]        \n",
            "__________________________________________________________________________________________________\n",
            "block5a_expand_activation (Acti (None, 14, 14, 480)  0           block5a_expand_bn[0][0]          \n",
            "__________________________________________________________________________________________________\n",
            "block5a_dwconv (DepthwiseConv2D (None, 14, 14, 480)  12000       block5a_expand_activation[0][0]  \n",
            "__________________________________________________________________________________________________\n",
            "block5a_bn (BatchNormalization) (None, 14, 14, 480)  1920        block5a_dwconv[0][0]             \n",
            "__________________________________________________________________________________________________\n",
            "block5a_activation (Activation) (None, 14, 14, 480)  0           block5a_bn[0][0]                 \n",
            "__________________________________________________________________________________________________\n",
            "block5a_se_squeeze (GlobalAvera (None, 480)          0           block5a_activation[0][0]         \n",
            "__________________________________________________________________________________________________\n",
            "block5a_se_reshape (Reshape)    (None, 1, 1, 480)    0           block5a_se_squeeze[0][0]         \n",
            "__________________________________________________________________________________________________\n",
            "block5a_se_reduce (Conv2D)      (None, 1, 1, 20)     9620        block5a_se_reshape[0][0]         \n",
            "__________________________________________________________________________________________________\n",
            "block5a_se_expand (Conv2D)      (None, 1, 1, 480)    10080       block5a_se_reduce[0][0]          \n",
            "__________________________________________________________________________________________________\n",
            "block5a_se_excite (Multiply)    (None, 14, 14, 480)  0           block5a_activation[0][0]         \n",
            "                                                                 block5a_se_expand[0][0]          \n",
            "__________________________________________________________________________________________________\n",
            "block5a_project_conv (Conv2D)   (None, 14, 14, 112)  53760       block5a_se_excite[0][0]          \n",
            "__________________________________________________________________________________________________\n",
            "block5a_project_bn (BatchNormal (None, 14, 14, 112)  448         block5a_project_conv[0][0]       \n",
            "__________________________________________________________________________________________________\n",
            "block5b_expand_conv (Conv2D)    (None, 14, 14, 672)  75264       block5a_project_bn[0][0]         \n",
            "__________________________________________________________________________________________________\n",
            "block5b_expand_bn (BatchNormali (None, 14, 14, 672)  2688        block5b_expand_conv[0][0]        \n",
            "__________________________________________________________________________________________________\n",
            "block5b_expand_activation (Acti (None, 14, 14, 672)  0           block5b_expand_bn[0][0]          \n",
            "__________________________________________________________________________________________________\n",
            "block5b_dwconv (DepthwiseConv2D (None, 14, 14, 672)  16800       block5b_expand_activation[0][0]  \n",
            "__________________________________________________________________________________________________\n",
            "block5b_bn (BatchNormalization) (None, 14, 14, 672)  2688        block5b_dwconv[0][0]             \n",
            "__________________________________________________________________________________________________\n",
            "block5b_activation (Activation) (None, 14, 14, 672)  0           block5b_bn[0][0]                 \n",
            "__________________________________________________________________________________________________\n",
            "block5b_se_squeeze (GlobalAvera (None, 672)          0           block5b_activation[0][0]         \n",
            "__________________________________________________________________________________________________\n",
            "block5b_se_reshape (Reshape)    (None, 1, 1, 672)    0           block5b_se_squeeze[0][0]         \n",
            "__________________________________________________________________________________________________\n",
            "block5b_se_reduce (Conv2D)      (None, 1, 1, 28)     18844       block5b_se_reshape[0][0]         \n",
            "__________________________________________________________________________________________________\n",
            "block5b_se_expand (Conv2D)      (None, 1, 1, 672)    19488       block5b_se_reduce[0][0]          \n",
            "__________________________________________________________________________________________________\n",
            "block5b_se_excite (Multiply)    (None, 14, 14, 672)  0           block5b_activation[0][0]         \n",
            "                                                                 block5b_se_expand[0][0]          \n",
            "__________________________________________________________________________________________________\n",
            "block5b_project_conv (Conv2D)   (None, 14, 14, 112)  75264       block5b_se_excite[0][0]          \n",
            "__________________________________________________________________________________________________\n",
            "block5b_project_bn (BatchNormal (None, 14, 14, 112)  448         block5b_project_conv[0][0]       \n",
            "__________________________________________________________________________________________________\n",
            "block5b_drop (Dropout)          (None, 14, 14, 112)  0           block5b_project_bn[0][0]         \n",
            "__________________________________________________________________________________________________\n",
            "block5b_add (Add)               (None, 14, 14, 112)  0           block5b_drop[0][0]               \n",
            "                                                                 block5a_project_bn[0][0]         \n",
            "__________________________________________________________________________________________________\n",
            "block5c_expand_conv (Conv2D)    (None, 14, 14, 672)  75264       block5b_add[0][0]                \n",
            "__________________________________________________________________________________________________\n",
            "block5c_expand_bn (BatchNormali (None, 14, 14, 672)  2688        block5c_expand_conv[0][0]        \n",
            "__________________________________________________________________________________________________\n",
            "block5c_expand_activation (Acti (None, 14, 14, 672)  0           block5c_expand_bn[0][0]          \n",
            "__________________________________________________________________________________________________\n",
            "block5c_dwconv (DepthwiseConv2D (None, 14, 14, 672)  16800       block5c_expand_activation[0][0]  \n",
            "__________________________________________________________________________________________________\n",
            "block5c_bn (BatchNormalization) (None, 14, 14, 672)  2688        block5c_dwconv[0][0]             \n",
            "__________________________________________________________________________________________________\n",
            "block5c_activation (Activation) (None, 14, 14, 672)  0           block5c_bn[0][0]                 \n",
            "__________________________________________________________________________________________________\n",
            "block5c_se_squeeze (GlobalAvera (None, 672)          0           block5c_activation[0][0]         \n",
            "__________________________________________________________________________________________________\n",
            "block5c_se_reshape (Reshape)    (None, 1, 1, 672)    0           block5c_se_squeeze[0][0]         \n",
            "__________________________________________________________________________________________________\n",
            "block5c_se_reduce (Conv2D)      (None, 1, 1, 28)     18844       block5c_se_reshape[0][0]         \n",
            "__________________________________________________________________________________________________\n",
            "block5c_se_expand (Conv2D)      (None, 1, 1, 672)    19488       block5c_se_reduce[0][0]          \n",
            "__________________________________________________________________________________________________\n",
            "block5c_se_excite (Multiply)    (None, 14, 14, 672)  0           block5c_activation[0][0]         \n",
            "                                                                 block5c_se_expand[0][0]          \n",
            "__________________________________________________________________________________________________\n",
            "block5c_project_conv (Conv2D)   (None, 14, 14, 112)  75264       block5c_se_excite[0][0]          \n",
            "__________________________________________________________________________________________________\n",
            "block5c_project_bn (BatchNormal (None, 14, 14, 112)  448         block5c_project_conv[0][0]       \n",
            "__________________________________________________________________________________________________\n",
            "block5c_drop (Dropout)          (None, 14, 14, 112)  0           block5c_project_bn[0][0]         \n",
            "__________________________________________________________________________________________________\n",
            "block5c_add (Add)               (None, 14, 14, 112)  0           block5c_drop[0][0]               \n",
            "                                                                 block5b_add[0][0]                \n",
            "__________________________________________________________________________________________________\n",
            "block6a_expand_conv (Conv2D)    (None, 14, 14, 672)  75264       block5c_add[0][0]                \n",
            "__________________________________________________________________________________________________\n",
            "block6a_expand_bn (BatchNormali (None, 14, 14, 672)  2688        block6a_expand_conv[0][0]        \n",
            "__________________________________________________________________________________________________\n",
            "block6a_expand_activation (Acti (None, 14, 14, 672)  0           block6a_expand_bn[0][0]          \n",
            "__________________________________________________________________________________________________\n",
            "block6a_dwconv_pad (ZeroPadding (None, 17, 17, 672)  0           block6a_expand_activation[0][0]  \n",
            "__________________________________________________________________________________________________\n",
            "block6a_dwconv (DepthwiseConv2D (None, 7, 7, 672)    16800       block6a_dwconv_pad[0][0]         \n",
            "__________________________________________________________________________________________________\n",
            "block6a_bn (BatchNormalization) (None, 7, 7, 672)    2688        block6a_dwconv[0][0]             \n",
            "__________________________________________________________________________________________________\n",
            "block6a_activation (Activation) (None, 7, 7, 672)    0           block6a_bn[0][0]                 \n",
            "__________________________________________________________________________________________________\n",
            "block6a_se_squeeze (GlobalAvera (None, 672)          0           block6a_activation[0][0]         \n",
            "__________________________________________________________________________________________________\n",
            "block6a_se_reshape (Reshape)    (None, 1, 1, 672)    0           block6a_se_squeeze[0][0]         \n",
            "__________________________________________________________________________________________________\n",
            "block6a_se_reduce (Conv2D)      (None, 1, 1, 28)     18844       block6a_se_reshape[0][0]         \n",
            "__________________________________________________________________________________________________\n",
            "block6a_se_expand (Conv2D)      (None, 1, 1, 672)    19488       block6a_se_reduce[0][0]          \n",
            "__________________________________________________________________________________________________\n",
            "block6a_se_excite (Multiply)    (None, 7, 7, 672)    0           block6a_activation[0][0]         \n",
            "                                                                 block6a_se_expand[0][0]          \n",
            "__________________________________________________________________________________________________\n",
            "block6a_project_conv (Conv2D)   (None, 7, 7, 192)    129024      block6a_se_excite[0][0]          \n",
            "__________________________________________________________________________________________________\n",
            "block6a_project_bn (BatchNormal (None, 7, 7, 192)    768         block6a_project_conv[0][0]       \n",
            "__________________________________________________________________________________________________\n",
            "block6b_expand_conv (Conv2D)    (None, 7, 7, 1152)   221184      block6a_project_bn[0][0]         \n",
            "__________________________________________________________________________________________________\n",
            "block6b_expand_bn (BatchNormali (None, 7, 7, 1152)   4608        block6b_expand_conv[0][0]        \n",
            "__________________________________________________________________________________________________\n",
            "block6b_expand_activation (Acti (None, 7, 7, 1152)   0           block6b_expand_bn[0][0]          \n",
            "__________________________________________________________________________________________________\n",
            "block6b_dwconv (DepthwiseConv2D (None, 7, 7, 1152)   28800       block6b_expand_activation[0][0]  \n",
            "__________________________________________________________________________________________________\n",
            "block6b_bn (BatchNormalization) (None, 7, 7, 1152)   4608        block6b_dwconv[0][0]             \n",
            "__________________________________________________________________________________________________\n",
            "block6b_activation (Activation) (None, 7, 7, 1152)   0           block6b_bn[0][0]                 \n",
            "__________________________________________________________________________________________________\n",
            "block6b_se_squeeze (GlobalAvera (None, 1152)         0           block6b_activation[0][0]         \n",
            "__________________________________________________________________________________________________\n",
            "block6b_se_reshape (Reshape)    (None, 1, 1, 1152)   0           block6b_se_squeeze[0][0]         \n",
            "__________________________________________________________________________________________________\n",
            "block6b_se_reduce (Conv2D)      (None, 1, 1, 48)     55344       block6b_se_reshape[0][0]         \n",
            "__________________________________________________________________________________________________\n",
            "block6b_se_expand (Conv2D)      (None, 1, 1, 1152)   56448       block6b_se_reduce[0][0]          \n",
            "__________________________________________________________________________________________________\n",
            "block6b_se_excite (Multiply)    (None, 7, 7, 1152)   0           block6b_activation[0][0]         \n",
            "                                                                 block6b_se_expand[0][0]          \n",
            "__________________________________________________________________________________________________\n",
            "block6b_project_conv (Conv2D)   (None, 7, 7, 192)    221184      block6b_se_excite[0][0]          \n",
            "__________________________________________________________________________________________________\n",
            "block6b_project_bn (BatchNormal (None, 7, 7, 192)    768         block6b_project_conv[0][0]       \n",
            "__________________________________________________________________________________________________\n",
            "block6b_drop (Dropout)          (None, 7, 7, 192)    0           block6b_project_bn[0][0]         \n",
            "__________________________________________________________________________________________________\n",
            "block6b_add (Add)               (None, 7, 7, 192)    0           block6b_drop[0][0]               \n",
            "                                                                 block6a_project_bn[0][0]         \n",
            "__________________________________________________________________________________________________\n",
            "block6c_expand_conv (Conv2D)    (None, 7, 7, 1152)   221184      block6b_add[0][0]                \n",
            "__________________________________________________________________________________________________\n",
            "block6c_expand_bn (BatchNormali (None, 7, 7, 1152)   4608        block6c_expand_conv[0][0]        \n",
            "__________________________________________________________________________________________________\n",
            "block6c_expand_activation (Acti (None, 7, 7, 1152)   0           block6c_expand_bn[0][0]          \n",
            "__________________________________________________________________________________________________\n",
            "block6c_dwconv (DepthwiseConv2D (None, 7, 7, 1152)   28800       block6c_expand_activation[0][0]  \n",
            "__________________________________________________________________________________________________\n",
            "block6c_bn (BatchNormalization) (None, 7, 7, 1152)   4608        block6c_dwconv[0][0]             \n",
            "__________________________________________________________________________________________________\n",
            "block6c_activation (Activation) (None, 7, 7, 1152)   0           block6c_bn[0][0]                 \n",
            "__________________________________________________________________________________________________\n",
            "block6c_se_squeeze (GlobalAvera (None, 1152)         0           block6c_activation[0][0]         \n",
            "__________________________________________________________________________________________________\n",
            "block6c_se_reshape (Reshape)    (None, 1, 1, 1152)   0           block6c_se_squeeze[0][0]         \n",
            "__________________________________________________________________________________________________\n",
            "block6c_se_reduce (Conv2D)      (None, 1, 1, 48)     55344       block6c_se_reshape[0][0]         \n",
            "__________________________________________________________________________________________________\n",
            "block6c_se_expand (Conv2D)      (None, 1, 1, 1152)   56448       block6c_se_reduce[0][0]          \n",
            "__________________________________________________________________________________________________\n",
            "block6c_se_excite (Multiply)    (None, 7, 7, 1152)   0           block6c_activation[0][0]         \n",
            "                                                                 block6c_se_expand[0][0]          \n",
            "__________________________________________________________________________________________________\n",
            "block6c_project_conv (Conv2D)   (None, 7, 7, 192)    221184      block6c_se_excite[0][0]          \n",
            "__________________________________________________________________________________________________\n",
            "block6c_project_bn (BatchNormal (None, 7, 7, 192)    768         block6c_project_conv[0][0]       \n",
            "__________________________________________________________________________________________________\n",
            "block6c_drop (Dropout)          (None, 7, 7, 192)    0           block6c_project_bn[0][0]         \n",
            "__________________________________________________________________________________________________\n",
            "block6c_add (Add)               (None, 7, 7, 192)    0           block6c_drop[0][0]               \n",
            "                                                                 block6b_add[0][0]                \n",
            "__________________________________________________________________________________________________\n",
            "block6d_expand_conv (Conv2D)    (None, 7, 7, 1152)   221184      block6c_add[0][0]                \n",
            "__________________________________________________________________________________________________\n",
            "block6d_expand_bn (BatchNormali (None, 7, 7, 1152)   4608        block6d_expand_conv[0][0]        \n",
            "__________________________________________________________________________________________________\n",
            "block6d_expand_activation (Acti (None, 7, 7, 1152)   0           block6d_expand_bn[0][0]          \n",
            "__________________________________________________________________________________________________\n",
            "block6d_dwconv (DepthwiseConv2D (None, 7, 7, 1152)   28800       block6d_expand_activation[0][0]  \n",
            "__________________________________________________________________________________________________\n",
            "block6d_bn (BatchNormalization) (None, 7, 7, 1152)   4608        block6d_dwconv[0][0]             \n",
            "__________________________________________________________________________________________________\n",
            "block6d_activation (Activation) (None, 7, 7, 1152)   0           block6d_bn[0][0]                 \n",
            "__________________________________________________________________________________________________\n",
            "block6d_se_squeeze (GlobalAvera (None, 1152)         0           block6d_activation[0][0]         \n",
            "__________________________________________________________________________________________________\n",
            "block6d_se_reshape (Reshape)    (None, 1, 1, 1152)   0           block6d_se_squeeze[0][0]         \n",
            "__________________________________________________________________________________________________\n",
            "block6d_se_reduce (Conv2D)      (None, 1, 1, 48)     55344       block6d_se_reshape[0][0]         \n",
            "__________________________________________________________________________________________________\n",
            "block6d_se_expand (Conv2D)      (None, 1, 1, 1152)   56448       block6d_se_reduce[0][0]          \n",
            "__________________________________________________________________________________________________\n",
            "block6d_se_excite (Multiply)    (None, 7, 7, 1152)   0           block6d_activation[0][0]         \n",
            "                                                                 block6d_se_expand[0][0]          \n",
            "__________________________________________________________________________________________________\n",
            "block6d_project_conv (Conv2D)   (None, 7, 7, 192)    221184      block6d_se_excite[0][0]          \n",
            "__________________________________________________________________________________________________\n",
            "block6d_project_bn (BatchNormal (None, 7, 7, 192)    768         block6d_project_conv[0][0]       \n",
            "__________________________________________________________________________________________________\n",
            "block6d_drop (Dropout)          (None, 7, 7, 192)    0           block6d_project_bn[0][0]         \n",
            "__________________________________________________________________________________________________\n",
            "block6d_add (Add)               (None, 7, 7, 192)    0           block6d_drop[0][0]               \n",
            "                                                                 block6c_add[0][0]                \n",
            "__________________________________________________________________________________________________\n",
            "block7a_expand_conv (Conv2D)    (None, 7, 7, 1152)   221184      block6d_add[0][0]                \n",
            "__________________________________________________________________________________________________\n",
            "block7a_expand_bn (BatchNormali (None, 7, 7, 1152)   4608        block7a_expand_conv[0][0]        \n",
            "__________________________________________________________________________________________________\n",
            "block7a_expand_activation (Acti (None, 7, 7, 1152)   0           block7a_expand_bn[0][0]          \n",
            "__________________________________________________________________________________________________\n",
            "block7a_dwconv (DepthwiseConv2D (None, 7, 7, 1152)   10368       block7a_expand_activation[0][0]  \n",
            "__________________________________________________________________________________________________\n",
            "block7a_bn (BatchNormalization) (None, 7, 7, 1152)   4608        block7a_dwconv[0][0]             \n",
            "__________________________________________________________________________________________________\n",
            "block7a_activation (Activation) (None, 7, 7, 1152)   0           block7a_bn[0][0]                 \n",
            "__________________________________________________________________________________________________\n",
            "block7a_se_squeeze (GlobalAvera (None, 1152)         0           block7a_activation[0][0]         \n",
            "__________________________________________________________________________________________________\n",
            "block7a_se_reshape (Reshape)    (None, 1, 1, 1152)   0           block7a_se_squeeze[0][0]         \n",
            "__________________________________________________________________________________________________\n",
            "block7a_se_reduce (Conv2D)      (None, 1, 1, 48)     55344       block7a_se_reshape[0][0]         \n",
            "__________________________________________________________________________________________________\n",
            "block7a_se_expand (Conv2D)      (None, 1, 1, 1152)   56448       block7a_se_reduce[0][0]          \n",
            "__________________________________________________________________________________________________\n",
            "block7a_se_excite (Multiply)    (None, 7, 7, 1152)   0           block7a_activation[0][0]         \n",
            "                                                                 block7a_se_expand[0][0]          \n",
            "__________________________________________________________________________________________________\n",
            "block7a_project_conv (Conv2D)   (None, 7, 7, 320)    368640      block7a_se_excite[0][0]          \n",
            "__________________________________________________________________________________________________\n",
            "block7a_project_bn (BatchNormal (None, 7, 7, 320)    1280        block7a_project_conv[0][0]       \n",
            "__________________________________________________________________________________________________\n",
            "top_conv (Conv2D)               (None, 7, 7, 1280)   409600      block7a_project_bn[0][0]         \n",
            "__________________________________________________________________________________________________\n",
            "top_bn (BatchNormalization)     (None, 7, 7, 1280)   5120        top_conv[0][0]                   \n",
            "__________________________________________________________________________________________________\n",
            "top_activation (Activation)     (None, 7, 7, 1280)   0           top_bn[0][0]                     \n",
            "==================================================================================================\n",
            "Total params: 4,049,571\n",
            "Trainable params: 4,007,548\n",
            "Non-trainable params: 42,023\n",
            "__________________________________________________________________________________________________\n"
          ],
          "name": "stdout"
        }
      ]
    },
    {
      "cell_type": "code",
      "metadata": {
        "id": "Px5N4q3HtKpL"
      },
      "source": [
        "for layer in EFNB0.layers:\n",
        "  layer.trainable = False"
      ],
      "execution_count": null,
      "outputs": []
    },
    {
      "cell_type": "code",
      "metadata": {
        "colab": {
          "base_uri": "https://localhost:8080/"
        },
        "id": "FsFjD66Rurmz",
        "outputId": "d967a0b9-324d-4c88-c5d1-2b3e67b31273"
      },
      "source": [
        "EFNB0.summary()"
      ],
      "execution_count": null,
      "outputs": [
        {
          "output_type": "stream",
          "text": [
            "Model: \"efficientnetb0\"\n",
            "__________________________________________________________________________________________________\n",
            "Layer (type)                    Output Shape         Param #     Connected to                     \n",
            "==================================================================================================\n",
            "input_2 (InputLayer)            [(None, 224, 224, 3) 0                                            \n",
            "__________________________________________________________________________________________________\n",
            "rescaling_1 (Rescaling)         (None, 224, 224, 3)  0           input_2[0][0]                    \n",
            "__________________________________________________________________________________________________\n",
            "normalization_1 (Normalization) (None, 224, 224, 3)  7           rescaling_1[0][0]                \n",
            "__________________________________________________________________________________________________\n",
            "stem_conv_pad (ZeroPadding2D)   (None, 225, 225, 3)  0           normalization_1[0][0]            \n",
            "__________________________________________________________________________________________________\n",
            "stem_conv (Conv2D)              (None, 112, 112, 32) 864         stem_conv_pad[0][0]              \n",
            "__________________________________________________________________________________________________\n",
            "stem_bn (BatchNormalization)    (None, 112, 112, 32) 128         stem_conv[0][0]                  \n",
            "__________________________________________________________________________________________________\n",
            "stem_activation (Activation)    (None, 112, 112, 32) 0           stem_bn[0][0]                    \n",
            "__________________________________________________________________________________________________\n",
            "block1a_dwconv (DepthwiseConv2D (None, 112, 112, 32) 288         stem_activation[0][0]            \n",
            "__________________________________________________________________________________________________\n",
            "block1a_bn (BatchNormalization) (None, 112, 112, 32) 128         block1a_dwconv[0][0]             \n",
            "__________________________________________________________________________________________________\n",
            "block1a_activation (Activation) (None, 112, 112, 32) 0           block1a_bn[0][0]                 \n",
            "__________________________________________________________________________________________________\n",
            "block1a_se_squeeze (GlobalAvera (None, 32)           0           block1a_activation[0][0]         \n",
            "__________________________________________________________________________________________________\n",
            "block1a_se_reshape (Reshape)    (None, 1, 1, 32)     0           block1a_se_squeeze[0][0]         \n",
            "__________________________________________________________________________________________________\n",
            "block1a_se_reduce (Conv2D)      (None, 1, 1, 8)      264         block1a_se_reshape[0][0]         \n",
            "__________________________________________________________________________________________________\n",
            "block1a_se_expand (Conv2D)      (None, 1, 1, 32)     288         block1a_se_reduce[0][0]          \n",
            "__________________________________________________________________________________________________\n",
            "block1a_se_excite (Multiply)    (None, 112, 112, 32) 0           block1a_activation[0][0]         \n",
            "                                                                 block1a_se_expand[0][0]          \n",
            "__________________________________________________________________________________________________\n",
            "block1a_project_conv (Conv2D)   (None, 112, 112, 16) 512         block1a_se_excite[0][0]          \n",
            "__________________________________________________________________________________________________\n",
            "block1a_project_bn (BatchNormal (None, 112, 112, 16) 64          block1a_project_conv[0][0]       \n",
            "__________________________________________________________________________________________________\n",
            "block2a_expand_conv (Conv2D)    (None, 112, 112, 96) 1536        block1a_project_bn[0][0]         \n",
            "__________________________________________________________________________________________________\n",
            "block2a_expand_bn (BatchNormali (None, 112, 112, 96) 384         block2a_expand_conv[0][0]        \n",
            "__________________________________________________________________________________________________\n",
            "block2a_expand_activation (Acti (None, 112, 112, 96) 0           block2a_expand_bn[0][0]          \n",
            "__________________________________________________________________________________________________\n",
            "block2a_dwconv_pad (ZeroPadding (None, 113, 113, 96) 0           block2a_expand_activation[0][0]  \n",
            "__________________________________________________________________________________________________\n",
            "block2a_dwconv (DepthwiseConv2D (None, 56, 56, 96)   864         block2a_dwconv_pad[0][0]         \n",
            "__________________________________________________________________________________________________\n",
            "block2a_bn (BatchNormalization) (None, 56, 56, 96)   384         block2a_dwconv[0][0]             \n",
            "__________________________________________________________________________________________________\n",
            "block2a_activation (Activation) (None, 56, 56, 96)   0           block2a_bn[0][0]                 \n",
            "__________________________________________________________________________________________________\n",
            "block2a_se_squeeze (GlobalAvera (None, 96)           0           block2a_activation[0][0]         \n",
            "__________________________________________________________________________________________________\n",
            "block2a_se_reshape (Reshape)    (None, 1, 1, 96)     0           block2a_se_squeeze[0][0]         \n",
            "__________________________________________________________________________________________________\n",
            "block2a_se_reduce (Conv2D)      (None, 1, 1, 4)      388         block2a_se_reshape[0][0]         \n",
            "__________________________________________________________________________________________________\n",
            "block2a_se_expand (Conv2D)      (None, 1, 1, 96)     480         block2a_se_reduce[0][0]          \n",
            "__________________________________________________________________________________________________\n",
            "block2a_se_excite (Multiply)    (None, 56, 56, 96)   0           block2a_activation[0][0]         \n",
            "                                                                 block2a_se_expand[0][0]          \n",
            "__________________________________________________________________________________________________\n",
            "block2a_project_conv (Conv2D)   (None, 56, 56, 24)   2304        block2a_se_excite[0][0]          \n",
            "__________________________________________________________________________________________________\n",
            "block2a_project_bn (BatchNormal (None, 56, 56, 24)   96          block2a_project_conv[0][0]       \n",
            "__________________________________________________________________________________________________\n",
            "block2b_expand_conv (Conv2D)    (None, 56, 56, 144)  3456        block2a_project_bn[0][0]         \n",
            "__________________________________________________________________________________________________\n",
            "block2b_expand_bn (BatchNormali (None, 56, 56, 144)  576         block2b_expand_conv[0][0]        \n",
            "__________________________________________________________________________________________________\n",
            "block2b_expand_activation (Acti (None, 56, 56, 144)  0           block2b_expand_bn[0][0]          \n",
            "__________________________________________________________________________________________________\n",
            "block2b_dwconv (DepthwiseConv2D (None, 56, 56, 144)  1296        block2b_expand_activation[0][0]  \n",
            "__________________________________________________________________________________________________\n",
            "block2b_bn (BatchNormalization) (None, 56, 56, 144)  576         block2b_dwconv[0][0]             \n",
            "__________________________________________________________________________________________________\n",
            "block2b_activation (Activation) (None, 56, 56, 144)  0           block2b_bn[0][0]                 \n",
            "__________________________________________________________________________________________________\n",
            "block2b_se_squeeze (GlobalAvera (None, 144)          0           block2b_activation[0][0]         \n",
            "__________________________________________________________________________________________________\n",
            "block2b_se_reshape (Reshape)    (None, 1, 1, 144)    0           block2b_se_squeeze[0][0]         \n",
            "__________________________________________________________________________________________________\n",
            "block2b_se_reduce (Conv2D)      (None, 1, 1, 6)      870         block2b_se_reshape[0][0]         \n",
            "__________________________________________________________________________________________________\n",
            "block2b_se_expand (Conv2D)      (None, 1, 1, 144)    1008        block2b_se_reduce[0][0]          \n",
            "__________________________________________________________________________________________________\n",
            "block2b_se_excite (Multiply)    (None, 56, 56, 144)  0           block2b_activation[0][0]         \n",
            "                                                                 block2b_se_expand[0][0]          \n",
            "__________________________________________________________________________________________________\n",
            "block2b_project_conv (Conv2D)   (None, 56, 56, 24)   3456        block2b_se_excite[0][0]          \n",
            "__________________________________________________________________________________________________\n",
            "block2b_project_bn (BatchNormal (None, 56, 56, 24)   96          block2b_project_conv[0][0]       \n",
            "__________________________________________________________________________________________________\n",
            "block2b_drop (Dropout)          (None, 56, 56, 24)   0           block2b_project_bn[0][0]         \n",
            "__________________________________________________________________________________________________\n",
            "block2b_add (Add)               (None, 56, 56, 24)   0           block2b_drop[0][0]               \n",
            "                                                                 block2a_project_bn[0][0]         \n",
            "__________________________________________________________________________________________________\n",
            "block3a_expand_conv (Conv2D)    (None, 56, 56, 144)  3456        block2b_add[0][0]                \n",
            "__________________________________________________________________________________________________\n",
            "block3a_expand_bn (BatchNormali (None, 56, 56, 144)  576         block3a_expand_conv[0][0]        \n",
            "__________________________________________________________________________________________________\n",
            "block3a_expand_activation (Acti (None, 56, 56, 144)  0           block3a_expand_bn[0][0]          \n",
            "__________________________________________________________________________________________________\n",
            "block3a_dwconv_pad (ZeroPadding (None, 59, 59, 144)  0           block3a_expand_activation[0][0]  \n",
            "__________________________________________________________________________________________________\n",
            "block3a_dwconv (DepthwiseConv2D (None, 28, 28, 144)  3600        block3a_dwconv_pad[0][0]         \n",
            "__________________________________________________________________________________________________\n",
            "block3a_bn (BatchNormalization) (None, 28, 28, 144)  576         block3a_dwconv[0][0]             \n",
            "__________________________________________________________________________________________________\n",
            "block3a_activation (Activation) (None, 28, 28, 144)  0           block3a_bn[0][0]                 \n",
            "__________________________________________________________________________________________________\n",
            "block3a_se_squeeze (GlobalAvera (None, 144)          0           block3a_activation[0][0]         \n",
            "__________________________________________________________________________________________________\n",
            "block3a_se_reshape (Reshape)    (None, 1, 1, 144)    0           block3a_se_squeeze[0][0]         \n",
            "__________________________________________________________________________________________________\n",
            "block3a_se_reduce (Conv2D)      (None, 1, 1, 6)      870         block3a_se_reshape[0][0]         \n",
            "__________________________________________________________________________________________________\n",
            "block3a_se_expand (Conv2D)      (None, 1, 1, 144)    1008        block3a_se_reduce[0][0]          \n",
            "__________________________________________________________________________________________________\n",
            "block3a_se_excite (Multiply)    (None, 28, 28, 144)  0           block3a_activation[0][0]         \n",
            "                                                                 block3a_se_expand[0][0]          \n",
            "__________________________________________________________________________________________________\n",
            "block3a_project_conv (Conv2D)   (None, 28, 28, 40)   5760        block3a_se_excite[0][0]          \n",
            "__________________________________________________________________________________________________\n",
            "block3a_project_bn (BatchNormal (None, 28, 28, 40)   160         block3a_project_conv[0][0]       \n",
            "__________________________________________________________________________________________________\n",
            "block3b_expand_conv (Conv2D)    (None, 28, 28, 240)  9600        block3a_project_bn[0][0]         \n",
            "__________________________________________________________________________________________________\n",
            "block3b_expand_bn (BatchNormali (None, 28, 28, 240)  960         block3b_expand_conv[0][0]        \n",
            "__________________________________________________________________________________________________\n",
            "block3b_expand_activation (Acti (None, 28, 28, 240)  0           block3b_expand_bn[0][0]          \n",
            "__________________________________________________________________________________________________\n",
            "block3b_dwconv (DepthwiseConv2D (None, 28, 28, 240)  6000        block3b_expand_activation[0][0]  \n",
            "__________________________________________________________________________________________________\n",
            "block3b_bn (BatchNormalization) (None, 28, 28, 240)  960         block3b_dwconv[0][0]             \n",
            "__________________________________________________________________________________________________\n",
            "block3b_activation (Activation) (None, 28, 28, 240)  0           block3b_bn[0][0]                 \n",
            "__________________________________________________________________________________________________\n",
            "block3b_se_squeeze (GlobalAvera (None, 240)          0           block3b_activation[0][0]         \n",
            "__________________________________________________________________________________________________\n",
            "block3b_se_reshape (Reshape)    (None, 1, 1, 240)    0           block3b_se_squeeze[0][0]         \n",
            "__________________________________________________________________________________________________\n",
            "block3b_se_reduce (Conv2D)      (None, 1, 1, 10)     2410        block3b_se_reshape[0][0]         \n",
            "__________________________________________________________________________________________________\n",
            "block3b_se_expand (Conv2D)      (None, 1, 1, 240)    2640        block3b_se_reduce[0][0]          \n",
            "__________________________________________________________________________________________________\n",
            "block3b_se_excite (Multiply)    (None, 28, 28, 240)  0           block3b_activation[0][0]         \n",
            "                                                                 block3b_se_expand[0][0]          \n",
            "__________________________________________________________________________________________________\n",
            "block3b_project_conv (Conv2D)   (None, 28, 28, 40)   9600        block3b_se_excite[0][0]          \n",
            "__________________________________________________________________________________________________\n",
            "block3b_project_bn (BatchNormal (None, 28, 28, 40)   160         block3b_project_conv[0][0]       \n",
            "__________________________________________________________________________________________________\n",
            "block3b_drop (Dropout)          (None, 28, 28, 40)   0           block3b_project_bn[0][0]         \n",
            "__________________________________________________________________________________________________\n",
            "block3b_add (Add)               (None, 28, 28, 40)   0           block3b_drop[0][0]               \n",
            "                                                                 block3a_project_bn[0][0]         \n",
            "__________________________________________________________________________________________________\n",
            "block4a_expand_conv (Conv2D)    (None, 28, 28, 240)  9600        block3b_add[0][0]                \n",
            "__________________________________________________________________________________________________\n",
            "block4a_expand_bn (BatchNormali (None, 28, 28, 240)  960         block4a_expand_conv[0][0]        \n",
            "__________________________________________________________________________________________________\n",
            "block4a_expand_activation (Acti (None, 28, 28, 240)  0           block4a_expand_bn[0][0]          \n",
            "__________________________________________________________________________________________________\n",
            "block4a_dwconv_pad (ZeroPadding (None, 29, 29, 240)  0           block4a_expand_activation[0][0]  \n",
            "__________________________________________________________________________________________________\n",
            "block4a_dwconv (DepthwiseConv2D (None, 14, 14, 240)  2160        block4a_dwconv_pad[0][0]         \n",
            "__________________________________________________________________________________________________\n",
            "block4a_bn (BatchNormalization) (None, 14, 14, 240)  960         block4a_dwconv[0][0]             \n",
            "__________________________________________________________________________________________________\n",
            "block4a_activation (Activation) (None, 14, 14, 240)  0           block4a_bn[0][0]                 \n",
            "__________________________________________________________________________________________________\n",
            "block4a_se_squeeze (GlobalAvera (None, 240)          0           block4a_activation[0][0]         \n",
            "__________________________________________________________________________________________________\n",
            "block4a_se_reshape (Reshape)    (None, 1, 1, 240)    0           block4a_se_squeeze[0][0]         \n",
            "__________________________________________________________________________________________________\n",
            "block4a_se_reduce (Conv2D)      (None, 1, 1, 10)     2410        block4a_se_reshape[0][0]         \n",
            "__________________________________________________________________________________________________\n",
            "block4a_se_expand (Conv2D)      (None, 1, 1, 240)    2640        block4a_se_reduce[0][0]          \n",
            "__________________________________________________________________________________________________\n",
            "block4a_se_excite (Multiply)    (None, 14, 14, 240)  0           block4a_activation[0][0]         \n",
            "                                                                 block4a_se_expand[0][0]          \n",
            "__________________________________________________________________________________________________\n",
            "block4a_project_conv (Conv2D)   (None, 14, 14, 80)   19200       block4a_se_excite[0][0]          \n",
            "__________________________________________________________________________________________________\n",
            "block4a_project_bn (BatchNormal (None, 14, 14, 80)   320         block4a_project_conv[0][0]       \n",
            "__________________________________________________________________________________________________\n",
            "block4b_expand_conv (Conv2D)    (None, 14, 14, 480)  38400       block4a_project_bn[0][0]         \n",
            "__________________________________________________________________________________________________\n",
            "block4b_expand_bn (BatchNormali (None, 14, 14, 480)  1920        block4b_expand_conv[0][0]        \n",
            "__________________________________________________________________________________________________\n",
            "block4b_expand_activation (Acti (None, 14, 14, 480)  0           block4b_expand_bn[0][0]          \n",
            "__________________________________________________________________________________________________\n",
            "block4b_dwconv (DepthwiseConv2D (None, 14, 14, 480)  4320        block4b_expand_activation[0][0]  \n",
            "__________________________________________________________________________________________________\n",
            "block4b_bn (BatchNormalization) (None, 14, 14, 480)  1920        block4b_dwconv[0][0]             \n",
            "__________________________________________________________________________________________________\n",
            "block4b_activation (Activation) (None, 14, 14, 480)  0           block4b_bn[0][0]                 \n",
            "__________________________________________________________________________________________________\n",
            "block4b_se_squeeze (GlobalAvera (None, 480)          0           block4b_activation[0][0]         \n",
            "__________________________________________________________________________________________________\n",
            "block4b_se_reshape (Reshape)    (None, 1, 1, 480)    0           block4b_se_squeeze[0][0]         \n",
            "__________________________________________________________________________________________________\n",
            "block4b_se_reduce (Conv2D)      (None, 1, 1, 20)     9620        block4b_se_reshape[0][0]         \n",
            "__________________________________________________________________________________________________\n",
            "block4b_se_expand (Conv2D)      (None, 1, 1, 480)    10080       block4b_se_reduce[0][0]          \n",
            "__________________________________________________________________________________________________\n",
            "block4b_se_excite (Multiply)    (None, 14, 14, 480)  0           block4b_activation[0][0]         \n",
            "                                                                 block4b_se_expand[0][0]          \n",
            "__________________________________________________________________________________________________\n",
            "block4b_project_conv (Conv2D)   (None, 14, 14, 80)   38400       block4b_se_excite[0][0]          \n",
            "__________________________________________________________________________________________________\n",
            "block4b_project_bn (BatchNormal (None, 14, 14, 80)   320         block4b_project_conv[0][0]       \n",
            "__________________________________________________________________________________________________\n",
            "block4b_drop (Dropout)          (None, 14, 14, 80)   0           block4b_project_bn[0][0]         \n",
            "__________________________________________________________________________________________________\n",
            "block4b_add (Add)               (None, 14, 14, 80)   0           block4b_drop[0][0]               \n",
            "                                                                 block4a_project_bn[0][0]         \n",
            "__________________________________________________________________________________________________\n",
            "block4c_expand_conv (Conv2D)    (None, 14, 14, 480)  38400       block4b_add[0][0]                \n",
            "__________________________________________________________________________________________________\n",
            "block4c_expand_bn (BatchNormali (None, 14, 14, 480)  1920        block4c_expand_conv[0][0]        \n",
            "__________________________________________________________________________________________________\n",
            "block4c_expand_activation (Acti (None, 14, 14, 480)  0           block4c_expand_bn[0][0]          \n",
            "__________________________________________________________________________________________________\n",
            "block4c_dwconv (DepthwiseConv2D (None, 14, 14, 480)  4320        block4c_expand_activation[0][0]  \n",
            "__________________________________________________________________________________________________\n",
            "block4c_bn (BatchNormalization) (None, 14, 14, 480)  1920        block4c_dwconv[0][0]             \n",
            "__________________________________________________________________________________________________\n",
            "block4c_activation (Activation) (None, 14, 14, 480)  0           block4c_bn[0][0]                 \n",
            "__________________________________________________________________________________________________\n",
            "block4c_se_squeeze (GlobalAvera (None, 480)          0           block4c_activation[0][0]         \n",
            "__________________________________________________________________________________________________\n",
            "block4c_se_reshape (Reshape)    (None, 1, 1, 480)    0           block4c_se_squeeze[0][0]         \n",
            "__________________________________________________________________________________________________\n",
            "block4c_se_reduce (Conv2D)      (None, 1, 1, 20)     9620        block4c_se_reshape[0][0]         \n",
            "__________________________________________________________________________________________________\n",
            "block4c_se_expand (Conv2D)      (None, 1, 1, 480)    10080       block4c_se_reduce[0][0]          \n",
            "__________________________________________________________________________________________________\n",
            "block4c_se_excite (Multiply)    (None, 14, 14, 480)  0           block4c_activation[0][0]         \n",
            "                                                                 block4c_se_expand[0][0]          \n",
            "__________________________________________________________________________________________________\n",
            "block4c_project_conv (Conv2D)   (None, 14, 14, 80)   38400       block4c_se_excite[0][0]          \n",
            "__________________________________________________________________________________________________\n",
            "block4c_project_bn (BatchNormal (None, 14, 14, 80)   320         block4c_project_conv[0][0]       \n",
            "__________________________________________________________________________________________________\n",
            "block4c_drop (Dropout)          (None, 14, 14, 80)   0           block4c_project_bn[0][0]         \n",
            "__________________________________________________________________________________________________\n",
            "block4c_add (Add)               (None, 14, 14, 80)   0           block4c_drop[0][0]               \n",
            "                                                                 block4b_add[0][0]                \n",
            "__________________________________________________________________________________________________\n",
            "block5a_expand_conv (Conv2D)    (None, 14, 14, 480)  38400       block4c_add[0][0]                \n",
            "__________________________________________________________________________________________________\n",
            "block5a_expand_bn (BatchNormali (None, 14, 14, 480)  1920        block5a_expand_conv[0][0]        \n",
            "__________________________________________________________________________________________________\n",
            "block5a_expand_activation (Acti (None, 14, 14, 480)  0           block5a_expand_bn[0][0]          \n",
            "__________________________________________________________________________________________________\n",
            "block5a_dwconv (DepthwiseConv2D (None, 14, 14, 480)  12000       block5a_expand_activation[0][0]  \n",
            "__________________________________________________________________________________________________\n",
            "block5a_bn (BatchNormalization) (None, 14, 14, 480)  1920        block5a_dwconv[0][0]             \n",
            "__________________________________________________________________________________________________\n",
            "block5a_activation (Activation) (None, 14, 14, 480)  0           block5a_bn[0][0]                 \n",
            "__________________________________________________________________________________________________\n",
            "block5a_se_squeeze (GlobalAvera (None, 480)          0           block5a_activation[0][0]         \n",
            "__________________________________________________________________________________________________\n",
            "block5a_se_reshape (Reshape)    (None, 1, 1, 480)    0           block5a_se_squeeze[0][0]         \n",
            "__________________________________________________________________________________________________\n",
            "block5a_se_reduce (Conv2D)      (None, 1, 1, 20)     9620        block5a_se_reshape[0][0]         \n",
            "__________________________________________________________________________________________________\n",
            "block5a_se_expand (Conv2D)      (None, 1, 1, 480)    10080       block5a_se_reduce[0][0]          \n",
            "__________________________________________________________________________________________________\n",
            "block5a_se_excite (Multiply)    (None, 14, 14, 480)  0           block5a_activation[0][0]         \n",
            "                                                                 block5a_se_expand[0][0]          \n",
            "__________________________________________________________________________________________________\n",
            "block5a_project_conv (Conv2D)   (None, 14, 14, 112)  53760       block5a_se_excite[0][0]          \n",
            "__________________________________________________________________________________________________\n",
            "block5a_project_bn (BatchNormal (None, 14, 14, 112)  448         block5a_project_conv[0][0]       \n",
            "__________________________________________________________________________________________________\n",
            "block5b_expand_conv (Conv2D)    (None, 14, 14, 672)  75264       block5a_project_bn[0][0]         \n",
            "__________________________________________________________________________________________________\n",
            "block5b_expand_bn (BatchNormali (None, 14, 14, 672)  2688        block5b_expand_conv[0][0]        \n",
            "__________________________________________________________________________________________________\n",
            "block5b_expand_activation (Acti (None, 14, 14, 672)  0           block5b_expand_bn[0][0]          \n",
            "__________________________________________________________________________________________________\n",
            "block5b_dwconv (DepthwiseConv2D (None, 14, 14, 672)  16800       block5b_expand_activation[0][0]  \n",
            "__________________________________________________________________________________________________\n",
            "block5b_bn (BatchNormalization) (None, 14, 14, 672)  2688        block5b_dwconv[0][0]             \n",
            "__________________________________________________________________________________________________\n",
            "block5b_activation (Activation) (None, 14, 14, 672)  0           block5b_bn[0][0]                 \n",
            "__________________________________________________________________________________________________\n",
            "block5b_se_squeeze (GlobalAvera (None, 672)          0           block5b_activation[0][0]         \n",
            "__________________________________________________________________________________________________\n",
            "block5b_se_reshape (Reshape)    (None, 1, 1, 672)    0           block5b_se_squeeze[0][0]         \n",
            "__________________________________________________________________________________________________\n",
            "block5b_se_reduce (Conv2D)      (None, 1, 1, 28)     18844       block5b_se_reshape[0][0]         \n",
            "__________________________________________________________________________________________________\n",
            "block5b_se_expand (Conv2D)      (None, 1, 1, 672)    19488       block5b_se_reduce[0][0]          \n",
            "__________________________________________________________________________________________________\n",
            "block5b_se_excite (Multiply)    (None, 14, 14, 672)  0           block5b_activation[0][0]         \n",
            "                                                                 block5b_se_expand[0][0]          \n",
            "__________________________________________________________________________________________________\n",
            "block5b_project_conv (Conv2D)   (None, 14, 14, 112)  75264       block5b_se_excite[0][0]          \n",
            "__________________________________________________________________________________________________\n",
            "block5b_project_bn (BatchNormal (None, 14, 14, 112)  448         block5b_project_conv[0][0]       \n",
            "__________________________________________________________________________________________________\n",
            "block5b_drop (Dropout)          (None, 14, 14, 112)  0           block5b_project_bn[0][0]         \n",
            "__________________________________________________________________________________________________\n",
            "block5b_add (Add)               (None, 14, 14, 112)  0           block5b_drop[0][0]               \n",
            "                                                                 block5a_project_bn[0][0]         \n",
            "__________________________________________________________________________________________________\n",
            "block5c_expand_conv (Conv2D)    (None, 14, 14, 672)  75264       block5b_add[0][0]                \n",
            "__________________________________________________________________________________________________\n",
            "block5c_expand_bn (BatchNormali (None, 14, 14, 672)  2688        block5c_expand_conv[0][0]        \n",
            "__________________________________________________________________________________________________\n",
            "block5c_expand_activation (Acti (None, 14, 14, 672)  0           block5c_expand_bn[0][0]          \n",
            "__________________________________________________________________________________________________\n",
            "block5c_dwconv (DepthwiseConv2D (None, 14, 14, 672)  16800       block5c_expand_activation[0][0]  \n",
            "__________________________________________________________________________________________________\n",
            "block5c_bn (BatchNormalization) (None, 14, 14, 672)  2688        block5c_dwconv[0][0]             \n",
            "__________________________________________________________________________________________________\n",
            "block5c_activation (Activation) (None, 14, 14, 672)  0           block5c_bn[0][0]                 \n",
            "__________________________________________________________________________________________________\n",
            "block5c_se_squeeze (GlobalAvera (None, 672)          0           block5c_activation[0][0]         \n",
            "__________________________________________________________________________________________________\n",
            "block5c_se_reshape (Reshape)    (None, 1, 1, 672)    0           block5c_se_squeeze[0][0]         \n",
            "__________________________________________________________________________________________________\n",
            "block5c_se_reduce (Conv2D)      (None, 1, 1, 28)     18844       block5c_se_reshape[0][0]         \n",
            "__________________________________________________________________________________________________\n",
            "block5c_se_expand (Conv2D)      (None, 1, 1, 672)    19488       block5c_se_reduce[0][0]          \n",
            "__________________________________________________________________________________________________\n",
            "block5c_se_excite (Multiply)    (None, 14, 14, 672)  0           block5c_activation[0][0]         \n",
            "                                                                 block5c_se_expand[0][0]          \n",
            "__________________________________________________________________________________________________\n",
            "block5c_project_conv (Conv2D)   (None, 14, 14, 112)  75264       block5c_se_excite[0][0]          \n",
            "__________________________________________________________________________________________________\n",
            "block5c_project_bn (BatchNormal (None, 14, 14, 112)  448         block5c_project_conv[0][0]       \n",
            "__________________________________________________________________________________________________\n",
            "block5c_drop (Dropout)          (None, 14, 14, 112)  0           block5c_project_bn[0][0]         \n",
            "__________________________________________________________________________________________________\n",
            "block5c_add (Add)               (None, 14, 14, 112)  0           block5c_drop[0][0]               \n",
            "                                                                 block5b_add[0][0]                \n",
            "__________________________________________________________________________________________________\n",
            "block6a_expand_conv (Conv2D)    (None, 14, 14, 672)  75264       block5c_add[0][0]                \n",
            "__________________________________________________________________________________________________\n",
            "block6a_expand_bn (BatchNormali (None, 14, 14, 672)  2688        block6a_expand_conv[0][0]        \n",
            "__________________________________________________________________________________________________\n",
            "block6a_expand_activation (Acti (None, 14, 14, 672)  0           block6a_expand_bn[0][0]          \n",
            "__________________________________________________________________________________________________\n",
            "block6a_dwconv_pad (ZeroPadding (None, 17, 17, 672)  0           block6a_expand_activation[0][0]  \n",
            "__________________________________________________________________________________________________\n",
            "block6a_dwconv (DepthwiseConv2D (None, 7, 7, 672)    16800       block6a_dwconv_pad[0][0]         \n",
            "__________________________________________________________________________________________________\n",
            "block6a_bn (BatchNormalization) (None, 7, 7, 672)    2688        block6a_dwconv[0][0]             \n",
            "__________________________________________________________________________________________________\n",
            "block6a_activation (Activation) (None, 7, 7, 672)    0           block6a_bn[0][0]                 \n",
            "__________________________________________________________________________________________________\n",
            "block6a_se_squeeze (GlobalAvera (None, 672)          0           block6a_activation[0][0]         \n",
            "__________________________________________________________________________________________________\n",
            "block6a_se_reshape (Reshape)    (None, 1, 1, 672)    0           block6a_se_squeeze[0][0]         \n",
            "__________________________________________________________________________________________________\n",
            "block6a_se_reduce (Conv2D)      (None, 1, 1, 28)     18844       block6a_se_reshape[0][0]         \n",
            "__________________________________________________________________________________________________\n",
            "block6a_se_expand (Conv2D)      (None, 1, 1, 672)    19488       block6a_se_reduce[0][0]          \n",
            "__________________________________________________________________________________________________\n",
            "block6a_se_excite (Multiply)    (None, 7, 7, 672)    0           block6a_activation[0][0]         \n",
            "                                                                 block6a_se_expand[0][0]          \n",
            "__________________________________________________________________________________________________\n",
            "block6a_project_conv (Conv2D)   (None, 7, 7, 192)    129024      block6a_se_excite[0][0]          \n",
            "__________________________________________________________________________________________________\n",
            "block6a_project_bn (BatchNormal (None, 7, 7, 192)    768         block6a_project_conv[0][0]       \n",
            "__________________________________________________________________________________________________\n",
            "block6b_expand_conv (Conv2D)    (None, 7, 7, 1152)   221184      block6a_project_bn[0][0]         \n",
            "__________________________________________________________________________________________________\n",
            "block6b_expand_bn (BatchNormali (None, 7, 7, 1152)   4608        block6b_expand_conv[0][0]        \n",
            "__________________________________________________________________________________________________\n",
            "block6b_expand_activation (Acti (None, 7, 7, 1152)   0           block6b_expand_bn[0][0]          \n",
            "__________________________________________________________________________________________________\n",
            "block6b_dwconv (DepthwiseConv2D (None, 7, 7, 1152)   28800       block6b_expand_activation[0][0]  \n",
            "__________________________________________________________________________________________________\n",
            "block6b_bn (BatchNormalization) (None, 7, 7, 1152)   4608        block6b_dwconv[0][0]             \n",
            "__________________________________________________________________________________________________\n",
            "block6b_activation (Activation) (None, 7, 7, 1152)   0           block6b_bn[0][0]                 \n",
            "__________________________________________________________________________________________________\n",
            "block6b_se_squeeze (GlobalAvera (None, 1152)         0           block6b_activation[0][0]         \n",
            "__________________________________________________________________________________________________\n",
            "block6b_se_reshape (Reshape)    (None, 1, 1, 1152)   0           block6b_se_squeeze[0][0]         \n",
            "__________________________________________________________________________________________________\n",
            "block6b_se_reduce (Conv2D)      (None, 1, 1, 48)     55344       block6b_se_reshape[0][0]         \n",
            "__________________________________________________________________________________________________\n",
            "block6b_se_expand (Conv2D)      (None, 1, 1, 1152)   56448       block6b_se_reduce[0][0]          \n",
            "__________________________________________________________________________________________________\n",
            "block6b_se_excite (Multiply)    (None, 7, 7, 1152)   0           block6b_activation[0][0]         \n",
            "                                                                 block6b_se_expand[0][0]          \n",
            "__________________________________________________________________________________________________\n",
            "block6b_project_conv (Conv2D)   (None, 7, 7, 192)    221184      block6b_se_excite[0][0]          \n",
            "__________________________________________________________________________________________________\n",
            "block6b_project_bn (BatchNormal (None, 7, 7, 192)    768         block6b_project_conv[0][0]       \n",
            "__________________________________________________________________________________________________\n",
            "block6b_drop (Dropout)          (None, 7, 7, 192)    0           block6b_project_bn[0][0]         \n",
            "__________________________________________________________________________________________________\n",
            "block6b_add (Add)               (None, 7, 7, 192)    0           block6b_drop[0][0]               \n",
            "                                                                 block6a_project_bn[0][0]         \n",
            "__________________________________________________________________________________________________\n",
            "block6c_expand_conv (Conv2D)    (None, 7, 7, 1152)   221184      block6b_add[0][0]                \n",
            "__________________________________________________________________________________________________\n",
            "block6c_expand_bn (BatchNormali (None, 7, 7, 1152)   4608        block6c_expand_conv[0][0]        \n",
            "__________________________________________________________________________________________________\n",
            "block6c_expand_activation (Acti (None, 7, 7, 1152)   0           block6c_expand_bn[0][0]          \n",
            "__________________________________________________________________________________________________\n",
            "block6c_dwconv (DepthwiseConv2D (None, 7, 7, 1152)   28800       block6c_expand_activation[0][0]  \n",
            "__________________________________________________________________________________________________\n",
            "block6c_bn (BatchNormalization) (None, 7, 7, 1152)   4608        block6c_dwconv[0][0]             \n",
            "__________________________________________________________________________________________________\n",
            "block6c_activation (Activation) (None, 7, 7, 1152)   0           block6c_bn[0][0]                 \n",
            "__________________________________________________________________________________________________\n",
            "block6c_se_squeeze (GlobalAvera (None, 1152)         0           block6c_activation[0][0]         \n",
            "__________________________________________________________________________________________________\n",
            "block6c_se_reshape (Reshape)    (None, 1, 1, 1152)   0           block6c_se_squeeze[0][0]         \n",
            "__________________________________________________________________________________________________\n",
            "block6c_se_reduce (Conv2D)      (None, 1, 1, 48)     55344       block6c_se_reshape[0][0]         \n",
            "__________________________________________________________________________________________________\n",
            "block6c_se_expand (Conv2D)      (None, 1, 1, 1152)   56448       block6c_se_reduce[0][0]          \n",
            "__________________________________________________________________________________________________\n",
            "block6c_se_excite (Multiply)    (None, 7, 7, 1152)   0           block6c_activation[0][0]         \n",
            "                                                                 block6c_se_expand[0][0]          \n",
            "__________________________________________________________________________________________________\n",
            "block6c_project_conv (Conv2D)   (None, 7, 7, 192)    221184      block6c_se_excite[0][0]          \n",
            "__________________________________________________________________________________________________\n",
            "block6c_project_bn (BatchNormal (None, 7, 7, 192)    768         block6c_project_conv[0][0]       \n",
            "__________________________________________________________________________________________________\n",
            "block6c_drop (Dropout)          (None, 7, 7, 192)    0           block6c_project_bn[0][0]         \n",
            "__________________________________________________________________________________________________\n",
            "block6c_add (Add)               (None, 7, 7, 192)    0           block6c_drop[0][0]               \n",
            "                                                                 block6b_add[0][0]                \n",
            "__________________________________________________________________________________________________\n",
            "block6d_expand_conv (Conv2D)    (None, 7, 7, 1152)   221184      block6c_add[0][0]                \n",
            "__________________________________________________________________________________________________\n",
            "block6d_expand_bn (BatchNormali (None, 7, 7, 1152)   4608        block6d_expand_conv[0][0]        \n",
            "__________________________________________________________________________________________________\n",
            "block6d_expand_activation (Acti (None, 7, 7, 1152)   0           block6d_expand_bn[0][0]          \n",
            "__________________________________________________________________________________________________\n",
            "block6d_dwconv (DepthwiseConv2D (None, 7, 7, 1152)   28800       block6d_expand_activation[0][0]  \n",
            "__________________________________________________________________________________________________\n",
            "block6d_bn (BatchNormalization) (None, 7, 7, 1152)   4608        block6d_dwconv[0][0]             \n",
            "__________________________________________________________________________________________________\n",
            "block6d_activation (Activation) (None, 7, 7, 1152)   0           block6d_bn[0][0]                 \n",
            "__________________________________________________________________________________________________\n",
            "block6d_se_squeeze (GlobalAvera (None, 1152)         0           block6d_activation[0][0]         \n",
            "__________________________________________________________________________________________________\n",
            "block6d_se_reshape (Reshape)    (None, 1, 1, 1152)   0           block6d_se_squeeze[0][0]         \n",
            "__________________________________________________________________________________________________\n",
            "block6d_se_reduce (Conv2D)      (None, 1, 1, 48)     55344       block6d_se_reshape[0][0]         \n",
            "__________________________________________________________________________________________________\n",
            "block6d_se_expand (Conv2D)      (None, 1, 1, 1152)   56448       block6d_se_reduce[0][0]          \n",
            "__________________________________________________________________________________________________\n",
            "block6d_se_excite (Multiply)    (None, 7, 7, 1152)   0           block6d_activation[0][0]         \n",
            "                                                                 block6d_se_expand[0][0]          \n",
            "__________________________________________________________________________________________________\n",
            "block6d_project_conv (Conv2D)   (None, 7, 7, 192)    221184      block6d_se_excite[0][0]          \n",
            "__________________________________________________________________________________________________\n",
            "block6d_project_bn (BatchNormal (None, 7, 7, 192)    768         block6d_project_conv[0][0]       \n",
            "__________________________________________________________________________________________________\n",
            "block6d_drop (Dropout)          (None, 7, 7, 192)    0           block6d_project_bn[0][0]         \n",
            "__________________________________________________________________________________________________\n",
            "block6d_add (Add)               (None, 7, 7, 192)    0           block6d_drop[0][0]               \n",
            "                                                                 block6c_add[0][0]                \n",
            "__________________________________________________________________________________________________\n",
            "block7a_expand_conv (Conv2D)    (None, 7, 7, 1152)   221184      block6d_add[0][0]                \n",
            "__________________________________________________________________________________________________\n",
            "block7a_expand_bn (BatchNormali (None, 7, 7, 1152)   4608        block7a_expand_conv[0][0]        \n",
            "__________________________________________________________________________________________________\n",
            "block7a_expand_activation (Acti (None, 7, 7, 1152)   0           block7a_expand_bn[0][0]          \n",
            "__________________________________________________________________________________________________\n",
            "block7a_dwconv (DepthwiseConv2D (None, 7, 7, 1152)   10368       block7a_expand_activation[0][0]  \n",
            "__________________________________________________________________________________________________\n",
            "block7a_bn (BatchNormalization) (None, 7, 7, 1152)   4608        block7a_dwconv[0][0]             \n",
            "__________________________________________________________________________________________________\n",
            "block7a_activation (Activation) (None, 7, 7, 1152)   0           block7a_bn[0][0]                 \n",
            "__________________________________________________________________________________________________\n",
            "block7a_se_squeeze (GlobalAvera (None, 1152)         0           block7a_activation[0][0]         \n",
            "__________________________________________________________________________________________________\n",
            "block7a_se_reshape (Reshape)    (None, 1, 1, 1152)   0           block7a_se_squeeze[0][0]         \n",
            "__________________________________________________________________________________________________\n",
            "block7a_se_reduce (Conv2D)      (None, 1, 1, 48)     55344       block7a_se_reshape[0][0]         \n",
            "__________________________________________________________________________________________________\n",
            "block7a_se_expand (Conv2D)      (None, 1, 1, 1152)   56448       block7a_se_reduce[0][0]          \n",
            "__________________________________________________________________________________________________\n",
            "block7a_se_excite (Multiply)    (None, 7, 7, 1152)   0           block7a_activation[0][0]         \n",
            "                                                                 block7a_se_expand[0][0]          \n",
            "__________________________________________________________________________________________________\n",
            "block7a_project_conv (Conv2D)   (None, 7, 7, 320)    368640      block7a_se_excite[0][0]          \n",
            "__________________________________________________________________________________________________\n",
            "block7a_project_bn (BatchNormal (None, 7, 7, 320)    1280        block7a_project_conv[0][0]       \n",
            "__________________________________________________________________________________________________\n",
            "top_conv (Conv2D)               (None, 7, 7, 1280)   409600      block7a_project_bn[0][0]         \n",
            "__________________________________________________________________________________________________\n",
            "top_bn (BatchNormalization)     (None, 7, 7, 1280)   5120        top_conv[0][0]                   \n",
            "__________________________________________________________________________________________________\n",
            "top_activation (Activation)     (None, 7, 7, 1280)   0           top_bn[0][0]                     \n",
            "==================================================================================================\n",
            "Total params: 4,049,571\n",
            "Trainable params: 0\n",
            "Non-trainable params: 4,049,571\n",
            "__________________________________________________________________________________________________\n"
          ],
          "name": "stdout"
        }
      ]
    },
    {
      "cell_type": "code",
      "metadata": {
        "id": "stAW1mFPocUa"
      },
      "source": [
        "feature_extractor = EFNB0.predict(X_train_augmented)\n",
        "features = feature_extractor.reshape(feature_extractor.shape[0],-1)\n",
        "X_for_training = features"
      ],
      "execution_count": 23,
      "outputs": []
    },
    {
      "cell_type": "code",
      "metadata": {
        "colab": {
          "base_uri": "https://localhost:8080/"
        },
        "id": "kBWTapG0wAh6",
        "outputId": "3539ad70-838c-4094-a4e6-6e5c020343d2"
      },
      "source": [
        "print(feature_extractor)"
      ],
      "execution_count": null,
      "outputs": [
        {
          "output_type": "stream",
          "text": [
            "[[[[-6.08306507e-08  3.19098064e-08  9.02035246e-09 ... -3.76068847e-08\n",
            "     2.44394744e-08 -1.87832239e-08]\n",
            "   [-5.25865680e-08  1.95144398e-08  7.68342989e-09 ... -2.73588281e-08\n",
            "     1.96775964e-08 -8.29283309e-09]\n",
            "   [-1.97005470e-08  4.49767086e-08  4.26161222e-08 ... -1.74699011e-08\n",
            "     2.67983573e-08 -1.74267427e-08]\n",
            "   ...\n",
            "   [ 5.02622868e-08  3.84797332e-08  5.06614271e-08 ... -3.03165582e-09\n",
            "     1.47205483e-08 -1.12451914e-08]\n",
            "   [ 7.08518613e-08  3.11111030e-08  3.49254492e-08 ... -1.17187771e-08\n",
            "     5.23824806e-09 -2.21559606e-08]\n",
            "   [ 3.70895563e-08  3.04620578e-08  3.29242980e-08 ... -1.00790176e-08\n",
            "     1.62917928e-08 -1.40361145e-08]]\n",
            "\n",
            "  [[-5.34342774e-08  6.02804340e-09  1.44406469e-08 ... -3.80263465e-08\n",
            "     5.00099056e-08 -2.43129819e-08]\n",
            "   [-2.85193700e-08 -6.15547613e-09  4.69271910e-09 ... -8.18656645e-08\n",
            "     4.79588707e-08  2.66769664e-08]\n",
            "   [ 4.45053283e-09  2.44963747e-08  1.53708886e-08 ... -7.01302270e-08\n",
            "     5.79081565e-08  2.95482323e-08]\n",
            "   ...\n",
            "   [ 6.84580570e-08  1.34716931e-08  1.39973402e-08 ... -7.60758425e-08\n",
            "     3.97098709e-08  2.65851234e-08]\n",
            "   [ 7.72194255e-08  1.93659879e-08  1.74766370e-08 ... -5.91669043e-08\n",
            "     1.27473709e-09  1.55899094e-09]\n",
            "   [ 4.74425512e-08  2.80774000e-08  3.25170433e-08 ... -1.44826338e-08\n",
            "     1.71711534e-08 -2.66031575e-09]]\n",
            "\n",
            "  [[-6.46142340e-08 -2.51533083e-09 -5.23636956e-09 ... -4.60106442e-08\n",
            "     7.69703732e-08 -8.60341043e-09]\n",
            "   [-4.48981012e-08 -4.30506875e-09 -3.70695581e-08 ... -1.03283348e-07\n",
            "     8.52747064e-08  3.69644546e-08]\n",
            "   [ 7.73029285e-09  4.62708893e-09 -1.73918977e-08 ... -7.70882664e-08\n",
            "     5.82525246e-08  3.83813088e-08]\n",
            "   ...\n",
            "   [ 4.76051412e-08 -2.32294024e-08  1.82153066e-08 ... -8.57475086e-08\n",
            "     2.89574000e-08  3.62327519e-08]\n",
            "   [ 6.03577348e-08  2.10318110e-08  2.02175894e-08 ... -5.94659859e-08\n",
            "    -8.35677394e-09  2.61837219e-08]\n",
            "   [ 4.78677826e-08  2.41537172e-08  2.93062268e-08 ... -8.93127350e-09\n",
            "     8.57671445e-09  5.37552980e-09]]\n",
            "\n",
            "  ...\n",
            "\n",
            "  [[-3.01860936e-08 -1.75518391e-08 -1.29003990e-08 ... -4.13229166e-08\n",
            "     8.72437056e-08  1.16191377e-08]\n",
            "   [-3.38938406e-08 -2.94458111e-08 -3.56091014e-08 ... -1.05063478e-07\n",
            "     8.35492457e-08  4.69448587e-08]\n",
            "   [-6.42032338e-09 -2.62831037e-08 -4.37523013e-08 ... -8.31662419e-08\n",
            "     3.96005753e-08  4.45284520e-08]\n",
            "   ...\n",
            "   [ 6.32418917e-08 -3.47574947e-08 -7.55736274e-09 ... -6.82608103e-08\n",
            "     3.72597206e-08  8.50444692e-09]\n",
            "   [ 5.62341427e-08 -5.75342352e-09  9.01067043e-09 ... -5.10020470e-08\n",
            "     7.98701993e-09 -4.92779106e-09]\n",
            "   [ 3.83217866e-08  3.56801744e-09  2.70706479e-08 ...  4.92790653e-09\n",
            "     2.17972236e-08 -1.41992418e-08]]\n",
            "\n",
            "  [[-5.97457062e-09 -3.77654530e-08 -2.78565011e-08 ... -4.02128677e-08\n",
            "     5.74481334e-08  1.30755211e-08]\n",
            "   [-9.21896515e-09 -3.35792798e-08 -2.89612707e-08 ... -9.16844556e-08\n",
            "     7.73239250e-08  4.18719068e-08]\n",
            "   [ 1.49351855e-08 -5.22869428e-08 -5.29671773e-08 ... -9.03772559e-08\n",
            "     3.52333558e-08  4.17410995e-08]\n",
            "   ...\n",
            "   [ 5.42569154e-08 -4.48729587e-08  1.90765270e-09 ... -6.74616984e-08\n",
            "     9.41143274e-10  5.92208949e-09]\n",
            "   [ 4.31048477e-08 -7.10200299e-09  8.18157453e-09 ... -2.46080436e-08\n",
            "    -1.17810925e-08 -1.45227625e-08]\n",
            "   [ 3.79483609e-08  4.07999945e-09  2.04788524e-08 ...  1.55232307e-08\n",
            "     8.87040308e-09 -1.87417815e-08]]\n",
            "\n",
            "  [[ 1.96575840e-08  5.54011104e-09 -1.77707236e-08 ... -8.26209146e-09\n",
            "     3.11925241e-08  3.42538762e-08]\n",
            "   [ 3.14594324e-08 -8.12477374e-09 -1.12378489e-08 ... -4.15981063e-08\n",
            "     4.41713830e-08  5.07608355e-08]\n",
            "   [ 3.81227565e-08 -1.45983439e-08 -1.85965288e-08 ... -6.71847218e-08\n",
            "     2.82953145e-08  5.44706147e-08]\n",
            "   ...\n",
            "   [ 3.01111385e-08 -2.64510174e-08  1.69923080e-08 ... -4.27446061e-08\n",
            "     1.47338257e-08  1.28149820e-08]\n",
            "   [ 2.44507774e-08 -6.14648421e-09  4.45855797e-09 ... -1.76350365e-08\n",
            "    -5.26037747e-09 -3.39723361e-09]\n",
            "   [ 2.38037643e-08 -7.71958675e-09  2.48352929e-08 ...  1.40738310e-08\n",
            "     2.28392150e-09 -8.90624108e-09]]]\n",
            "\n",
            "\n",
            " [[[-8.91838070e-08  3.90757968e-08  1.02446753e-08 ... -4.81851536e-08\n",
            "     3.66632236e-08 -2.58820059e-08]\n",
            "   [-6.02910930e-08  2.70115859e-08  1.17419789e-08 ... -3.32727517e-08\n",
            "     3.03145633e-08 -3.53622931e-09]\n",
            "   [-1.44952201e-08  6.03535639e-08  5.81116915e-08 ... -2.89611712e-08\n",
            "     4.17434300e-08 -2.20807213e-08]\n",
            "   ...\n",
            "   [ 6.39505870e-08  5.37074847e-08  6.59481856e-08 ... -7.39808792e-09\n",
            "     1.59451972e-08 -2.08623021e-08]\n",
            "   [ 8.83400446e-08  4.07151468e-08  4.93724066e-08 ... -1.38516008e-08\n",
            "     5.65877833e-09 -2.84562560e-08]\n",
            "   [ 4.72480437e-08  4.01062650e-08  4.24367279e-08 ... -1.53413513e-08\n",
            "     1.98019237e-08 -1.70459593e-08]]\n",
            "\n",
            "  [[-6.03162391e-08  3.85526056e-09  1.09308917e-08 ... -4.98802954e-08\n",
            "     7.06822405e-08 -2.28805312e-08]\n",
            "   [-2.35885196e-08 -2.79352586e-09  1.97876915e-09 ... -1.10131211e-07\n",
            "     6.99540834e-08  4.15379695e-08]\n",
            "   [ 2.35060806e-08  3.96128819e-08  2.96347409e-08 ... -9.59792530e-08\n",
            "     7.29037168e-08  4.08968006e-08]\n",
            "   ...\n",
            "   [ 8.45272083e-08  1.78140294e-08  1.96501606e-08 ... -9.08190358e-08\n",
            "     4.30966622e-08  3.52457903e-08]\n",
            "   [ 9.31683388e-08  2.66376272e-08  2.95339238e-08 ... -7.85895793e-08\n",
            "     4.90744601e-09  4.72190864e-09]\n",
            "   [ 5.82380189e-08  3.41813120e-08  4.23352979e-08 ... -2.12412079e-08\n",
            "     2.06885709e-08  4.59546429e-10]]\n",
            "\n",
            "  [[-7.47611466e-08 -9.35613986e-09 -6.12946582e-09 ... -6.74638372e-08\n",
            "     1.02759508e-07 -8.52549675e-09]\n",
            "   [-5.34236975e-08 -8.72786288e-09 -4.67909764e-08 ... -1.50716559e-07\n",
            "     9.08604036e-08  5.72534233e-08]\n",
            "   [-4.21020524e-10  2.98634966e-08 -6.78405288e-09 ... -1.00605817e-07\n",
            "     7.12776043e-08  3.88365287e-08]\n",
            "   ...\n",
            "   [ 5.83270889e-08 -2.02549320e-08  2.94979738e-08 ... -1.08922769e-07\n",
            "     3.92510344e-08  4.53293403e-08]\n",
            "   [ 7.95962904e-08  2.94865075e-08  3.12901989e-08 ... -7.48577307e-08\n",
            "    -2.88634805e-09  3.46138656e-08]\n",
            "   [ 6.38258726e-08  3.14900284e-08  3.95776283e-08 ... -1.61733436e-08\n",
            "     1.10725864e-08  1.05653513e-08]]\n",
            "\n",
            "  ...\n",
            "\n",
            "  [[-4.40860539e-08 -2.78521828e-08 -9.38840650e-09 ... -5.88422537e-08\n",
            "     1.19249293e-07  3.89019750e-09]\n",
            "   [-4.66567975e-08 -2.93349522e-08 -5.13861451e-08 ... -1.45161337e-07\n",
            "     1.04995991e-07  5.37242464e-08]\n",
            "   [-6.78291689e-09 -2.99027789e-08 -4.56240699e-08 ... -9.67525224e-08\n",
            "     6.48217267e-08  5.07054772e-08]\n",
            "   ...\n",
            "   [ 8.69248140e-08 -3.91741715e-08 -1.27286057e-08 ... -8.55999716e-08\n",
            "     4.95039778e-08  1.16349090e-08]\n",
            "   [ 8.18097092e-08 -3.31022010e-09  1.49172799e-08 ... -6.59807711e-08\n",
            "     1.14799130e-08 -4.65084193e-09]\n",
            "   [ 5.21291206e-08  5.71747893e-09  3.46973081e-08 ...  7.11145098e-09\n",
            "     2.84779738e-08 -1.88644940e-08]]\n",
            "\n",
            "  [[-6.09052986e-09 -6.08902582e-08 -3.50510909e-08 ... -5.37740057e-08\n",
            "     8.88738469e-08  9.17190945e-09]\n",
            "   [-9.00856278e-09 -4.61034446e-08 -4.81318274e-08 ... -1.26419039e-07\n",
            "     1.16142637e-07  5.43796048e-08]\n",
            "   [ 3.48566012e-08 -7.41237542e-08 -7.48785922e-08 ... -1.25119811e-07\n",
            "     5.65516487e-08  6.07491231e-08]\n",
            "   ...\n",
            "   [ 7.93711550e-08 -6.46462865e-08 -8.88632889e-10 ... -9.78216121e-08\n",
            "     2.90360203e-09  1.06453557e-08]\n",
            "   [ 6.36341326e-08 -9.09697473e-09  7.53518137e-09 ... -3.49182230e-08\n",
            "    -1.59058917e-08 -1.56273749e-08]\n",
            "   [ 5.21393559e-08  7.52049178e-09  2.71047451e-08 ...  2.04730721e-08\n",
            "     1.09461933e-08 -2.41523139e-08]]\n",
            "\n",
            "  [[ 2.20365806e-08  1.02197442e-08 -2.11779092e-08 ... -9.46492129e-09\n",
            "     4.48809665e-08  4.28358113e-08]\n",
            "   [ 4.69326515e-08 -6.43421627e-09 -1.87034868e-08 ... -5.57058648e-08\n",
            "     6.07634760e-08  7.61771588e-08]\n",
            "   [ 5.05532931e-08 -2.25883596e-08 -2.37877451e-08 ... -8.85384992e-08\n",
            "     4.10130205e-08  7.95456145e-08]\n",
            "   ...\n",
            "   [ 4.46463915e-08 -3.58689576e-08  1.98208685e-08 ... -6.34975095e-08\n",
            "     1.87598665e-08  1.89356335e-08]\n",
            "   [ 3.23101190e-08 -9.21671628e-09  5.16974863e-09 ... -2.51022438e-08\n",
            "    -6.13616491e-09 -2.09576889e-09]\n",
            "   [ 3.41521513e-08 -1.16722330e-08  3.36236710e-08 ...  1.93542569e-08\n",
            "     3.96723854e-09 -1.25551818e-08]]]\n",
            "\n",
            "\n",
            " [[[-6.70519640e-08  3.15297441e-08  9.35114297e-09 ... -4.00087856e-08\n",
            "     3.49564608e-08 -2.01016555e-08]\n",
            "   [-4.41726122e-08  2.14814939e-08  6.06356210e-09 ... -2.29675710e-08\n",
            "     2.90390911e-08  8.71557326e-10]\n",
            "   [-5.31562305e-09  5.14085272e-08  4.99722113e-08 ... -1.88950366e-08\n",
            "     3.15320854e-08 -1.55259379e-08]\n",
            "   ...\n",
            "   [ 5.10403382e-08  3.95591400e-08  4.66639136e-08 ... -5.59292035e-09\n",
            "     1.13993561e-08 -1.17095533e-08]\n",
            "   [ 6.62590054e-08  3.16783577e-08  3.81276628e-08 ... -1.12348637e-08\n",
            "     3.03484837e-09 -2.35416255e-08]\n",
            "   [ 3.25565601e-08  3.01645926e-08  3.25926770e-08 ... -1.06668079e-08\n",
            "     1.40503404e-08 -1.23658452e-08]]\n",
            "\n",
            "  [[-4.58196610e-08  4.18947765e-09  1.28377646e-08 ... -4.16208934e-08\n",
            "     6.39627018e-08 -1.52589283e-08]\n",
            "   [-9.77541337e-09 -1.07855929e-08  2.66585620e-09 ... -9.01688395e-08\n",
            "     5.79379176e-08  4.42851551e-08]\n",
            "   [ 1.90221545e-08  3.46507072e-08  3.40173472e-08 ... -7.77023459e-08\n",
            "     5.85458650e-08  2.95788869e-08]\n",
            "   ...\n",
            "   [ 6.49066791e-08  1.72800565e-08  1.65322955e-08 ... -6.97892730e-08\n",
            "     3.27437988e-08  2.59908699e-08]\n",
            "   [ 6.82382648e-08  1.90599572e-08  2.20646239e-08 ... -5.89683431e-08\n",
            "     2.65007927e-09  8.99614605e-10]\n",
            "   [ 4.25527169e-08  2.56277861e-08  3.14056656e-08 ... -1.39506309e-08\n",
            "     1.63335141e-08 -2.10229745e-09]]\n",
            "\n",
            "  [[-4.97284276e-08 -1.00726849e-08 -1.29906808e-09 ... -5.36632214e-08\n",
            "     8.51826059e-08 -6.52995213e-09]\n",
            "   [-2.77062941e-08 -7.25512050e-09 -4.22901429e-08 ... -1.24506911e-07\n",
            "     7.80627047e-08  5.41494884e-08]\n",
            "   [ 2.85605140e-09  2.80874115e-08  5.32182654e-09 ... -7.61200241e-08\n",
            "     5.66990508e-08  2.64257221e-08]\n",
            "   ...\n",
            "   [ 4.82185349e-08 -1.63808807e-08  2.23667556e-08 ... -8.35907628e-08\n",
            "     2.68301665e-08  3.52660763e-08]\n",
            "   [ 5.94692935e-08  2.59284576e-08  2.71128258e-08 ... -5.65145548e-08\n",
            "    -3.21222826e-09  2.11646505e-08]\n",
            "   [ 4.32240164e-08  2.32577442e-08  3.05937675e-08 ... -1.09048530e-08\n",
            "     9.04798103e-09  4.50345405e-09]]\n",
            "\n",
            "  ...\n",
            "\n",
            "  [[-3.54025396e-08 -3.30853922e-08 -9.70280833e-09 ... -4.70486334e-08\n",
            "     9.46874366e-08 -1.52099422e-09]\n",
            "   [-3.35525066e-08 -2.17410765e-08 -4.00609750e-08 ... -1.09535691e-07\n",
            "     8.25948305e-08  4.71320334e-08]\n",
            "   [ 5.51832091e-09 -2.13765929e-08 -3.20813456e-08 ... -6.62978508e-08\n",
            "     4.26858051e-08  3.89901409e-08]\n",
            "   ...\n",
            "   [ 6.98545719e-08 -3.19245537e-08 -6.30632924e-09 ... -6.47254836e-08\n",
            "     3.68612234e-08  1.29988695e-08]\n",
            "   [ 6.21543492e-08 -1.14322454e-10  9.98099647e-09 ... -4.75614463e-08\n",
            "     8.75502604e-09 -4.56393101e-09]\n",
            "   [ 3.78913505e-08  5.06771780e-09  2.68694063e-08 ...  8.29871816e-09\n",
            "     2.06107540e-08 -1.52256412e-08]]\n",
            "\n",
            "  [[-4.78842921e-09 -5.41932010e-08 -2.57625405e-08 ... -4.10048528e-08\n",
            "     7.72046036e-08  5.69192204e-09]\n",
            "   [-8.34155856e-09 -3.19604467e-08 -4.18914077e-08 ... -1.00616653e-07\n",
            "     8.79436328e-08  4.54340814e-08]\n",
            "   [ 3.30443903e-08 -5.38196261e-08 -5.70406655e-08 ... -9.34840685e-08\n",
            "     4.00085121e-08  4.62266350e-08]\n",
            "   ...\n",
            "   [ 5.65476483e-08 -4.83656422e-08  1.27117905e-09 ... -7.74664599e-08\n",
            "    -1.53964330e-09  5.12957499e-09]\n",
            "   [ 4.62816558e-08 -3.51507001e-09  6.73045797e-09 ... -2.01198738e-08\n",
            "    -1.10872707e-08 -1.41322367e-08]\n",
            "   [ 3.73693219e-08  4.14901713e-09  1.96809005e-08 ...  1.68829466e-08\n",
            "     9.01414499e-09 -1.78681034e-08]]\n",
            "\n",
            "  [[ 1.53575961e-08  8.40032133e-09 -1.80254549e-08 ... -1.01124291e-08\n",
            "     3.37241168e-08  3.33716379e-08]\n",
            "   [ 3.66911301e-08 -5.37029665e-09 -1.17477237e-08 ... -4.63854199e-08\n",
            "     4.71674291e-08  5.62270728e-08]\n",
            "   [ 4.04262970e-08 -1.75966868e-08 -2.13594280e-08 ... -7.58469909e-08\n",
            "     3.02875840e-08  5.98065668e-08]\n",
            "   ...\n",
            "   [ 2.70647398e-08 -2.77119820e-08  1.68988574e-08 ... -4.59756535e-08\n",
            "     1.17555503e-08  1.03455262e-08]\n",
            "   [ 2.50971173e-08 -5.63411717e-09  4.11881818e-09 ... -1.69748162e-08\n",
            "    -5.34143929e-09 -2.75286527e-09]\n",
            "   [ 2.58090953e-08 -9.55955493e-09  2.60664414e-08 ...  1.44409977e-08\n",
            "     3.94215194e-09 -1.00069082e-08]]]\n",
            "\n",
            "\n",
            " ...\n",
            "\n",
            "\n",
            " [[[-6.91904489e-08  3.20327445e-08  9.51683266e-09 ... -3.13688808e-08\n",
            "     2.36253435e-08 -1.81299651e-08]\n",
            "   [-8.16657391e-08  2.08327418e-08  3.18903615e-09 ... -2.20301697e-08\n",
            "     2.49933976e-08 -1.14030119e-08]\n",
            "   [-3.92514643e-08  3.30826744e-08  2.87129200e-08 ... -3.27813687e-08\n",
            "     2.83784729e-08 -1.23309185e-08]\n",
            "   ...\n",
            "   [ 4.56768454e-08  5.17603489e-08  4.42249686e-08 ...  1.63179603e-08\n",
            "     1.32538798e-08 -1.82807103e-08]\n",
            "   [ 7.23514759e-08  3.76474034e-08  4.16088071e-08 ... -1.22835182e-08\n",
            "    -8.14666890e-10 -2.76314651e-08]\n",
            "   [ 6.96671236e-08  4.40373569e-08  4.01461975e-08 ... -1.04490345e-08\n",
            "     1.72921588e-08 -2.35840947e-08]]\n",
            "\n",
            "  [[-5.22597290e-08  1.60929510e-08 -6.40062758e-09 ... -3.28919327e-08\n",
            "     4.67761723e-08 -2.02946548e-08]\n",
            "   [-5.30058735e-08 -1.99356709e-08 -2.53819099e-09 ... -7.30415977e-08\n",
            "     5.64946809e-08  1.79424653e-08]\n",
            "   [-2.43832265e-09  1.63816392e-08  4.40327330e-09 ... -1.04631305e-07\n",
            "     6.04432984e-08  3.61940273e-08]\n",
            "   ...\n",
            "   [ 4.86518594e-08 -7.01868386e-09  2.55021835e-08 ... -6.64830253e-08\n",
            "     4.23308890e-08  2.55191495e-08]\n",
            "   [ 7.47388640e-08  1.85513080e-08  2.89396809e-08 ... -7.33804129e-08\n",
            "     7.47486695e-09  2.21309620e-08]\n",
            "   [ 7.78624312e-08  4.00125160e-08  3.39767254e-08 ... -2.02180548e-08\n",
            "     1.46444306e-08 -4.63980943e-09]]\n",
            "\n",
            "  [[-4.87081522e-08  1.33307729e-08 -1.64802749e-08 ... -3.73208060e-08\n",
            "     6.62680506e-08 -4.45610659e-09]\n",
            "   [-5.07165900e-08 -1.57377826e-08 -2.46390446e-08 ... -9.81589920e-08\n",
            "     7.81049252e-08  2.84332700e-08]\n",
            "   [-4.81646438e-08 -2.82688406e-09 -1.89295921e-08 ... -1.10645637e-07\n",
            "     5.61940787e-08  1.50588306e-08]\n",
            "   ...\n",
            "   [ 3.07373149e-08 -1.26224524e-08  4.71131090e-09 ... -7.66580968e-08\n",
            "     6.56552217e-08  4.58600837e-08]\n",
            "   [ 8.29465705e-08 -1.20703998e-08  1.34154714e-08 ... -8.47515551e-08\n",
            "     1.08846123e-08  5.64840121e-08]\n",
            "   [ 7.58773737e-08  3.18091260e-08  2.57233861e-08 ... -2.17035581e-08\n",
            "     1.59552389e-08  1.02591748e-08]]\n",
            "\n",
            "  ...\n",
            "\n",
            "  [[-1.83999269e-08 -1.02949036e-08 -1.60443356e-08 ... -3.21608766e-08\n",
            "     6.01422343e-08 -1.35872833e-08]\n",
            "   [-3.95117326e-08 -2.40599753e-08 -2.38061091e-08 ... -8.83325626e-08\n",
            "     8.95521168e-08  1.95131431e-08]\n",
            "   [-2.69186771e-08 -3.86662968e-08 -5.52957005e-08 ... -8.46141006e-08\n",
            "     7.17891453e-08  4.41130190e-08]\n",
            "   ...\n",
            "   [ 5.95480927e-08 -6.06885990e-08 -3.19590008e-08 ... -8.33838882e-08\n",
            "     6.72730636e-08  3.05198036e-08]\n",
            "   [ 6.35568895e-08 -1.77036821e-08  3.09519033e-09 ... -7.86156065e-08\n",
            "     7.10155845e-09  1.44121497e-08]\n",
            "   [ 6.85669619e-08  2.45477558e-08  2.07263859e-08 ... -9.32772437e-09\n",
            "     7.63835217e-10 -1.90650464e-08]]\n",
            "\n",
            "  [[ 2.64852057e-10 -2.24223768e-08 -2.59917243e-08 ... -1.78435986e-08\n",
            "     4.11870076e-08 -2.45716270e-09]\n",
            "   [-3.25967764e-09 -3.83309917e-08 -2.41807303e-08 ... -6.01034387e-08\n",
            "     9.11355400e-08  3.79592784e-08]\n",
            "   [ 4.49353266e-09 -4.98395956e-08 -5.75752459e-08 ... -9.26562151e-08\n",
            "     6.49328484e-08  5.51052644e-08]\n",
            "   ...\n",
            "   [ 6.66714186e-08 -5.64695597e-08 -4.22893116e-08 ... -7.30084935e-08\n",
            "     2.62611888e-08  3.22688294e-08]\n",
            "   [ 4.38363799e-08 -3.44549989e-08 -7.81011078e-09 ... -5.91969815e-08\n",
            "    -1.40079752e-08 -2.87798296e-09]\n",
            "   [ 4.91989205e-08  8.82509177e-09  1.50601345e-08 ...  9.99906558e-09\n",
            "     5.43076473e-10 -2.30826060e-08]]\n",
            "\n",
            "  [[ 1.29110020e-08  1.38730805e-08 -2.45305198e-08 ...  1.76295645e-09\n",
            "     1.76396835e-08  3.09308916e-08]\n",
            "   [ 3.49826621e-08  1.39535794e-09 -1.37789291e-08 ... -1.73874817e-08\n",
            "     4.24186553e-08  5.12594234e-08]\n",
            "   [ 2.71585048e-08 -1.39374858e-08 -1.06613269e-08 ... -5.31222568e-08\n",
            "     4.24661550e-08  6.08900876e-08]\n",
            "   ...\n",
            "   [ 4.13637586e-08 -2.69546874e-08 -1.66877134e-09 ... -6.53984742e-08\n",
            "     7.86717713e-09  2.91092483e-08]\n",
            "   [ 2.19990941e-08 -6.63215882e-09  8.95847485e-09 ... -4.04873184e-08\n",
            "    -6.85045665e-09 -7.04774239e-10]\n",
            "   [ 2.62505768e-08 -7.64172281e-09  2.22701875e-08 ...  5.03332265e-09\n",
            "    -3.86150084e-10 -1.57746030e-08]]]\n",
            "\n",
            "\n",
            " [[[-6.73876528e-08  3.08354373e-08  9.65003455e-09 ... -3.08176773e-08\n",
            "     2.03054391e-08 -1.74373440e-08]\n",
            "   [-7.51691545e-08  2.48937315e-08  6.49685150e-09 ... -2.42980374e-08\n",
            "     2.30090773e-08 -8.99201069e-09]\n",
            "   [-3.56740699e-08  3.66814312e-08  2.98611376e-08 ... -3.39482398e-08\n",
            "     2.39343816e-08 -1.28619062e-08]\n",
            "   ...\n",
            "   [ 4.38129781e-08  3.94177420e-08  4.49322606e-08 ...  9.43800416e-09\n",
            "     7.67687958e-09 -1.56533098e-08]\n",
            "   [ 7.49278541e-08  3.72543205e-08  4.33591474e-08 ... -1.98512513e-08\n",
            "     2.31012320e-09 -2.92630329e-08]\n",
            "   [ 6.88286477e-08  4.76201798e-08  4.09033625e-08 ... -7.46744266e-09\n",
            "     2.00053751e-08 -2.70629066e-08]]\n",
            "\n",
            "  [[-5.36531033e-08  1.88103950e-08 -6.44192566e-09 ... -3.45492026e-08\n",
            "     4.47441195e-08 -2.21836878e-08]\n",
            "   [-5.22432657e-08 -1.31447004e-08  1.18144505e-09 ... -7.62717391e-08\n",
            "     5.43449943e-08  1.11507674e-08]\n",
            "   [-9.43400469e-09  2.19414193e-08  6.92785695e-09 ... -9.71604024e-08\n",
            "     5.08730054e-08  2.38806699e-08]\n",
            "   ...\n",
            "   [ 6.29208472e-08 -6.92002189e-09  1.78318853e-08 ... -7.03918985e-08\n",
            "     5.65642928e-08  2.83463031e-08]\n",
            "   [ 9.14916711e-08  7.82362708e-09  2.82012991e-08 ... -7.71790383e-08\n",
            "     7.82910803e-09  2.81209189e-08]\n",
            "   [ 7.85332688e-08  4.04369800e-08  3.32660015e-08 ... -2.02966977e-08\n",
            "     2.20993517e-08 -9.68983915e-09]]\n",
            "\n",
            "  [[-5.59874032e-08  1.66760330e-08 -1.45910128e-08 ... -3.57741392e-08\n",
            "     6.16785769e-08 -6.03841110e-09]\n",
            "   [-4.93846812e-08 -9.59652180e-09 -1.88786604e-08 ... -1.04443352e-07\n",
            "     8.20782873e-08  2.95470191e-08]\n",
            "   [-4.57346623e-08  3.55011065e-09 -1.83699331e-08 ... -9.54914796e-08\n",
            "     5.86013300e-08  1.72707892e-08]\n",
            "   ...\n",
            "   [ 3.26685452e-08 -2.65315308e-08  6.85773838e-09 ... -8.27213924e-08\n",
            "     6.13328908e-08  5.42010028e-08]\n",
            "   [ 8.04913824e-08  5.57035307e-09  2.27220660e-08 ... -8.05019766e-08\n",
            "     4.12522416e-09  4.65660719e-08]\n",
            "   [ 7.73867299e-08  3.53606282e-08  2.58124189e-08 ... -1.28806885e-08\n",
            "     1.16392451e-08  7.98713806e-09]]\n",
            "\n",
            "  ...\n",
            "\n",
            "  [[-2.07539159e-08 -1.14727561e-08 -1.48403894e-08 ... -3.75212394e-08\n",
            "     6.94832423e-08 -1.30968250e-08]\n",
            "   [-5.38346399e-08 -2.13841123e-08 -1.88042542e-08 ... -9.20961085e-08\n",
            "     9.24262764e-08  1.56699667e-08]\n",
            "   [-1.66953775e-08 -3.50115705e-08 -4.88330727e-08 ... -8.47176338e-08\n",
            "     7.63213066e-08  4.85471752e-08]\n",
            "   ...\n",
            "   [ 5.41204095e-08 -5.23124868e-08 -2.62697188e-08 ... -8.69411068e-08\n",
            "     5.93211489e-08  3.39288562e-08]\n",
            "   [ 6.13037301e-08 -2.09573532e-08  2.63005551e-09 ... -8.02033142e-08\n",
            "     3.57986041e-09  2.59977928e-09]\n",
            "   [ 7.52605089e-08  2.37579663e-08  1.98403853e-08 ... -1.04058735e-08\n",
            "     2.18224505e-09 -1.44919605e-08]]\n",
            "\n",
            "  [[-1.14775200e-09 -3.03688985e-08 -2.83721331e-08 ... -2.29213093e-08\n",
            "     5.16810239e-08 -6.76839118e-09]\n",
            "   [-1.11980114e-08 -4.07978362e-08 -2.62281628e-08 ... -7.18043154e-08\n",
            "     9.79450974e-08  4.56202045e-08]\n",
            "   [ 1.17113084e-08 -4.99949344e-08 -6.06902333e-08 ... -1.02904451e-07\n",
            "     6.23189607e-08  5.84262274e-08]\n",
            "   ...\n",
            "   [ 6.55368169e-08 -5.49702186e-08 -4.64770906e-08 ... -8.18429413e-08\n",
            "     2.68843525e-08  3.13987947e-08]\n",
            "   [ 5.32495541e-08 -3.59031738e-08 -1.03251683e-08 ... -5.67323184e-08\n",
            "    -1.29672602e-08 -3.90654131e-09]\n",
            "   [ 5.14401854e-08  7.97421418e-09  1.94656202e-08 ...  8.10449396e-09\n",
            "     5.18113019e-09 -2.39231532e-08]]\n",
            "\n",
            "  [[ 1.38572380e-08  1.13280691e-08 -2.57617501e-08 ...  3.62882613e-09\n",
            "     2.18065175e-08  3.38363719e-08]\n",
            "   [ 4.38424124e-08 -2.95081448e-09 -9.69752101e-09 ... -2.22360530e-08\n",
            "     4.67868873e-08  5.89842237e-08]\n",
            "   [ 2.56451091e-08 -1.31689459e-08 -1.60088671e-08 ... -6.16809643e-08\n",
            "     4.62552698e-08  6.63853541e-08]\n",
            "   ...\n",
            "   [ 4.31132143e-08 -2.32224444e-08  5.91270233e-09 ... -6.96381832e-08\n",
            "     9.82257742e-09  2.44603910e-08]\n",
            "   [ 2.76959788e-08 -8.76928752e-09  1.22736106e-08 ... -4.05195308e-08\n",
            "    -4.61070560e-09  6.21385654e-09]\n",
            "   [ 2.98519396e-08 -6.24786312e-09  1.91036982e-08 ...  7.17208337e-09\n",
            "    -1.40495948e-09 -1.32776972e-08]]]\n",
            "\n",
            "\n",
            " [[[-4.90311542e-08  2.07680166e-08  4.48096715e-09 ... -2.36969857e-08\n",
            "     1.57707021e-08 -1.33618183e-08]\n",
            "   [-5.71543204e-08  1.36374352e-08  4.44087878e-09 ... -1.59113913e-08\n",
            "     1.79514164e-08 -6.36442099e-09]\n",
            "   [-2.81234822e-08  2.63760906e-08  2.48314880e-08 ... -2.18675655e-08\n",
            "     1.84556548e-08 -7.93043231e-09]\n",
            "   ...\n",
            "   [ 3.10561070e-08  3.73932032e-08  3.07625605e-08 ...  7.42566320e-09\n",
            "     6.40383968e-09 -1.24522419e-08]\n",
            "   [ 5.11437150e-08  2.94674543e-08  3.59321106e-08 ... -8.18612378e-09\n",
            "     9.49311296e-10 -1.98981258e-08]\n",
            "   [ 5.21730463e-08  3.42911015e-08  3.20355724e-08 ... -4.48101689e-09\n",
            "     1.34922953e-08 -1.59893201e-08]]\n",
            "\n",
            "  [[-3.57209480e-08  1.21754207e-08 -6.66711619e-09 ... -2.45545770e-08\n",
            "     3.55333043e-08 -1.56327093e-08]\n",
            "   [-3.65897748e-08 -1.00842827e-08  1.48753587e-09 ... -5.50137891e-08\n",
            "     4.32033005e-08  1.27542839e-08]\n",
            "   [-5.86679594e-09  1.44223664e-08  5.82524295e-09 ... -7.52361444e-08\n",
            "     3.52150984e-08  2.47983660e-08]\n",
            "   ...\n",
            "   [ 3.16461914e-08 -7.00375224e-09  1.21556543e-08 ... -4.34867680e-08\n",
            "     4.32796874e-08  1.62464087e-08]\n",
            "   [ 6.60532180e-08  4.05407485e-09  1.85569444e-08 ... -5.60670870e-08\n",
            "     9.99197436e-09  1.98584171e-08]\n",
            "   [ 5.75343364e-08  3.06211057e-08  2.39902462e-08 ... -1.80032504e-08\n",
            "     1.00615827e-08 -3.12300830e-09]]\n",
            "\n",
            "  [[-3.33903678e-08  7.73784059e-09 -9.21191390e-09 ... -3.09829957e-08\n",
            "     4.32585097e-08 -2.22206920e-09]\n",
            "   [-3.14734585e-08 -6.61162991e-09 -1.81122619e-08 ... -8.12982819e-08\n",
            "     5.92559743e-08  1.84450730e-08]\n",
            "   [-3.39244224e-08  7.54582175e-09 -1.46368553e-08 ... -7.55067404e-08\n",
            "     4.51667468e-08  1.25825981e-08]\n",
            "   ...\n",
            "   [ 1.25746036e-08 -1.65679772e-08  4.08933554e-09 ... -5.43561747e-08\n",
            "     4.09149585e-08  3.81773511e-08]\n",
            "   [ 6.28078638e-08  2.58324895e-09  1.58629394e-08 ... -5.87858402e-08\n",
            "     5.61155478e-09  3.50195322e-08]\n",
            "   [ 5.44814291e-08  3.41683979e-08  2.52106691e-08 ... -1.47737849e-08\n",
            "     1.13528351e-08  3.63725094e-09]]\n",
            "\n",
            "  ...\n",
            "\n",
            "  [[-1.37234579e-08 -3.37949446e-09 -1.00391988e-08 ... -2.30304504e-08\n",
            "     4.60646739e-08 -7.42764739e-09]\n",
            "   [-3.48472327e-08 -1.27408741e-08 -1.18135519e-08 ... -6.21783371e-08\n",
            "     6.09581150e-08  1.27089930e-08]\n",
            "   [-1.65768999e-08 -2.60370054e-08 -3.47034153e-08 ... -5.80682169e-08\n",
            "     5.14140979e-08  3.25433334e-08]\n",
            "   ...\n",
            "   [ 4.37571437e-08 -4.05706473e-08 -1.92658458e-08 ... -6.44034017e-08\n",
            "     4.80234554e-08  2.39543372e-08]\n",
            "   [ 4.84318257e-08 -1.57106399e-08  1.26650601e-09 ... -6.23872509e-08\n",
            "     4.90713736e-09  8.36400016e-09]\n",
            "   [ 5.73126151e-08  1.84280342e-08  1.65497287e-08 ... -4.90254592e-09\n",
            "     4.44468062e-09 -1.11110241e-08]]\n",
            "\n",
            "  [[ 3.61186858e-09 -1.99053876e-08 -1.70668280e-08 ... -1.41438461e-08\n",
            "     3.09908685e-08 -3.00357694e-09]\n",
            "   [-7.29581595e-09 -2.44283171e-08 -1.73968253e-08 ... -4.59904825e-08\n",
            "     6.57688233e-08  2.98101597e-08]\n",
            "   [ 4.42974901e-09 -3.60612269e-08 -4.18408170e-08 ... -6.31159907e-08\n",
            "     4.64496850e-08  3.63734713e-08]\n",
            "   ...\n",
            "   [ 4.00817477e-08 -4.10207441e-08 -3.13174660e-08 ... -6.41172662e-08\n",
            "     1.94548821e-08  2.02168930e-08]\n",
            "   [ 4.06165164e-08 -2.08940900e-08 -7.81067389e-09 ... -4.42115606e-08\n",
            "    -9.72891812e-09 -2.84770008e-09]\n",
            "   [ 4.03722709e-08  5.45422152e-09  1.21571802e-08 ...  5.81622706e-09\n",
            "     3.68205133e-09 -1.74679258e-08]]\n",
            "\n",
            "  [[ 1.08233147e-08  8.07770117e-09 -1.56507465e-08 ...  1.96937289e-09\n",
            "     1.39551313e-08  2.08719282e-08]\n",
            "   [ 3.00491401e-08  4.14054485e-10 -8.55738325e-09 ... -1.22267689e-08\n",
            "     3.52912828e-08  4.24450732e-08]\n",
            "   [ 2.11253930e-08 -9.52020152e-09 -1.26838353e-08 ... -3.70752566e-08\n",
            "     3.45119489e-08  5.19359737e-08]\n",
            "   ...\n",
            "   [ 2.98783540e-08 -1.93403977e-08  1.13741783e-09 ... -5.14006082e-08\n",
            "     6.25680707e-09  2.25367920e-08]\n",
            "   [ 1.76866681e-08 -7.39055039e-09  3.94150446e-09 ... -3.16786242e-08\n",
            "    -4.49886306e-09  2.44791720e-09]\n",
            "   [ 2.31461890e-08 -5.19055154e-09  1.48168589e-08 ...  1.60332536e-09\n",
            "    -2.17229701e-09 -1.13787415e-08]]]]\n"
          ],
          "name": "stdout"
        }
      ]
    },
    {
      "cell_type": "code",
      "metadata": {
        "id": "cNpuFM7ixm3-"
      },
      "source": [
        "import xgboost as XGB\n",
        "model = XGB.XGBClassifier(learning_rate=0.001,n_estimators=25)\n",
        "#model.fit(X_for_training,y_train_augmented)"
      ],
      "execution_count": 35,
      "outputs": []
    },
    {
      "cell_type": "code",
      "metadata": {
        "colab": {
          "base_uri": "https://localhost:8080/"
        },
        "id": "roMIrQ7gqqm1",
        "outputId": "a1bce4b6-691b-499d-cc2d-43cfe405401c"
      },
      "source": [
        "feature_extractor = EFNB0.predict(X_Validate)\n",
        "features = feature_extractor.reshape(feature_extractor.shape[0],-1)\n",
        "Y_validate_predict =model.predict(features)\n",
        "print(Y_validate_predict)\n",
        "from sklearn import metrics\n",
        "print('Accuracy =',metrics.accuracy_score(Y_validate_predict,Y_Validate))\n",
        "print(Y_Validate)"
      ],
      "execution_count": 40,
      "outputs": [
        {
          "output_type": "stream",
          "text": [
            "[1 0 4 0 4 4 2 2 2 1]\n",
            "Accuracy = 0.4\n",
            "[0 0 1 1 1 4 1 2 2 0]\n"
          ],
          "name": "stdout"
        }
      ]
    },
    {
      "cell_type": "code",
      "metadata": {
        "id": "RYmpJRDK8W-E"
      },
      "source": [
        "y_ = model.predict(X_for_training)"
      ],
      "execution_count": null,
      "outputs": []
    },
    {
      "cell_type": "code",
      "metadata": {
        "colab": {
          "base_uri": "https://localhost:8080/"
        },
        "id": "3q4SCg8a9Bf1",
        "outputId": "13e01c44-17bf-48f4-9119-e1dfd279989f"
      },
      "source": [
        "from sklearn import metrics\n",
        "print ('Accuracy =',metrics.accuracy_score(y_train_augmented,y_))"
      ],
      "execution_count": null,
      "outputs": [
        {
          "output_type": "stream",
          "text": [
            "Accuracy = 0.907070707070707\n"
          ],
          "name": "stdout"
        }
      ]
    },
    {
      "cell_type": "code",
      "metadata": {
        "colab": {
          "base_uri": "https://localhost:8080/",
          "height": 282
        },
        "id": "Mza0-zE7ZSOn",
        "outputId": "ad50829f-70ab-41fb-b931-cce5984aa67b"
      },
      "source": [
        "from sklearn.metrics import confusion_matrix\n",
        "import seaborn as sns\n",
        "\n",
        "cm =confusion_matrix(y_train_augmented,y_)\n",
        "sns.heatmap(cm,annot = True)"
      ],
      "execution_count": null,
      "outputs": [
        {
          "output_type": "execute_result",
          "data": {
            "text/plain": [
              "<matplotlib.axes._subplots.AxesSubplot at 0x7faa2faf7590>"
            ]
          },
          "metadata": {
            "tags": []
          },
          "execution_count": 70
        },
        {
          "output_type": "display_data",
          "data": {
            "image/png": "[encoded data removed]",
            "text/plain": [
              "<Figure size 432x288 with 2 Axes>"
            ]
          },
          "metadata": {
            "tags": [],
            "needs_background": "light"
          }
        }
      ]
    },
    {
      "cell_type": "code",
      "metadata": {
        "colab": {
          "base_uri": "https://localhost:8080/"
        },
        "id": "8WoycxgkASxX",
        "outputId": "3a77c524-4dfd-4cc7-d321-f6c6d7e46513"
      },
      "source": [
        "from sklearn.metrics import classification_report\n",
        "Target_labels =['DR0','DR1','DR2','DR3','DR4']\n",
        "print(classification_report(y_train_augmented,y_,target_names = Target_labels))"
      ],
      "execution_count": null,
      "outputs": [
        {
          "output_type": "stream",
          "text": [
            "              precision    recall  f1-score   support\n",
            "\n",
            "         DR0       0.95      0.81      0.88       165\n",
            "         DR1       0.82      0.98      0.89       333\n",
            "         DR2       0.99      0.81      0.89       138\n",
            "         DR3       1.00      0.89      0.94        45\n",
            "         DR4       0.96      0.92      0.94       309\n",
            "\n",
            "    accuracy                           0.91       990\n",
            "   macro avg       0.94      0.88      0.91       990\n",
            "weighted avg       0.92      0.91      0.91       990\n",
            "\n"
          ],
          "name": "stdout"
        }
      ]
    },
    {
      "cell_type": "code",
      "metadata": {
        "id": "_wOoEigY9VeF"
      },
      "source": [
        "X_test_feature = EFNB0.predict(X_test)\n",
        "X_test_features =X_test_feature.reshape(X_test_feature.shape[0],-1)"
      ],
      "execution_count": null,
      "outputs": []
    },
    {
      "cell_type": "code",
      "metadata": {
        "id": "UROEhg10_AuD"
      },
      "source": [
        "Prediction = model.predict(X_test_features)"
      ],
      "execution_count": null,
      "outputs": []
    },
    {
      "cell_type": "code",
      "metadata": {
        "id": "9dkUYi-KHqxk"
      },
      "source": [
        "print(Prediction)"
      ],
      "execution_count": null,
      "outputs": []
    },
    {
      "cell_type": "code",
      "metadata": {
        "colab": {
          "base_uri": "https://localhost:8080/"
        },
        "id": "Iqv-QIHRzzpx",
        "outputId": "e16ca798-ca6b-4289-ed87-24fca59b8840"
      },
      "source": [
        "from sklearn import metrics\n",
        "print ('Accuracy =',metrics.accuracy_score(y_test,Prediction))"
      ],
      "execution_count": null,
      "outputs": [
        {
          "output_type": "stream",
          "text": [
            "Accuracy = 0.39759036144578314\n"
          ],
          "name": "stdout"
        }
      ]
    },
    {
      "cell_type": "code",
      "metadata": {
        "id": "8jXtm-I5IX2K"
      },
      "source": [
        "from sklearn.metrics import confusion_matrix\n",
        "import seaborn as sns\n",
        "\n",
        "cm =confusion_matrix(y_test,Prediction)\n",
        "sns.heatmap(cm,annot = True)"
      ],
      "execution_count": null,
      "outputs": []
    },
    {
      "cell_type": "code",
      "metadata": {
        "id": "M00zA_hxTzlY"
      },
      "source": [
        "from sklearn.metrics import classification_report\n",
        "Target_labels =['DR0','DR1','DR2','DR3','DR4']\n",
        "print(classification_report(y_test,Prediction,target_names = Target_labels))"
      ],
      "execution_count": null,
      "outputs": []
    },
    {
      "cell_type": "code",
      "metadata": {
        "id": "UepU1G7b63kK"
      },
      "source": [
        "from sklearn import metrics\n",
        "def get_score(model, X_train, X_test, y_train, y_test):\n",
        "  #training\n",
        "  feature_extractor = EFNB0.predict(X_train)\n",
        "  features = feature_extractor.reshape(feature_extractor.shape[0],-1)\n",
        "  X_for_training = features\n",
        "  model.fit(X_for_training, y_train)\n",
        "  # testing\n",
        "  test_features =EFNB0.predict(X_test)\n",
        "  test_features_reshaped =test_features.reshape(test_features.shape[0],-1)\n",
        "  \n",
        "  y_train_predict= model.predict(X_for_training)\n",
        "  y_test_predict = model.predict(test_features_reshaped)\n",
        "  return metrics.accuracy_score(y_train_predict, y_train),metrics.accuracy_score(y_test_predict,y_test)"
      ],
      "execution_count": 33,
      "outputs": []
    },
    {
      "cell_type": "code",
      "metadata": {
        "id": "LeLc6WvdaOSs"
      },
      "source": [
        "from sklearn.model_selection import cross_val_score\n",
        "from sklearn.model_selection import StratifiedKFold\n",
        "kfold = StratifiedKFold(n_splits=10,shuffle=True)\n",
        "\n",
        "scores =[]\n",
        "for train_index, test_index in kfold.split(X_Data,Y_Data):\n",
        "    X_train, X_test, y_train, y_test = X_Data[train_index],X_Data[test_index],Y_Data[train_index],Y_Data[test_index]\n",
        "    scores.append(get_score(model, X_train, X_test, y_train, y_test))"
      ],
      "execution_count": 36,
      "outputs": []
    },
    {
      "cell_type": "code",
      "metadata": {
        "colab": {
          "base_uri": "https://localhost:8080/"
        },
        "id": "2GV91jC7Lcjg",
        "outputId": "3d0ca896-3f2e-4392-b2e6-42c99971fdec"
      },
      "source": [
        "scores"
      ],
      "execution_count": 37,
      "outputs": [
        {
          "output_type": "execute_result",
          "data": {
            "text/plain": [
              "[(0.7358490566037735, 0.30952380952380953),\n",
              " (0.7520215633423181, 0.35714285714285715),\n",
              " (0.7412398921832885, 0.40476190476190477),\n",
              " (0.793010752688172, 0.43902439024390244),\n",
              " (0.739247311827957, 0.4634146341463415),\n",
              " (0.7580645161290323, 0.36585365853658536),\n",
              " (0.7446236559139785, 0.43902439024390244),\n",
              " (0.7795698924731183, 0.4146341463414634),\n",
              " (0.793010752688172, 0.36585365853658536),\n",
              " (0.7741935483870968, 0.4634146341463415)]"
            ]
          },
          "metadata": {
            "tags": []
          },
          "execution_count": 37
        }
      ]
    },
    {
      "cell_type": "code",
      "metadata": {
        "colab": {
          "base_uri": "https://localhost:8080/"
        },
        "id": "VMeopkv0S34k",
        "outputId": "3afc3d9c-ad29-49c6-baa5-5e0104b9d0f2"
      },
      "source": [
        "train_score = []\n",
        "test_score = []\n",
        "scores = [list(i) for i in scores]\n",
        "print(scores)\n",
        "i=0\n",
        "for i in range(len(scores)):\n",
        "  tr_score=scores[i][0]\n",
        "  ts_score =scores[i][1]\n",
        "  train_score.append(tr_score)\n",
        "  test_score.append(ts_score)\n",
        "print(train_score)\n",
        "print(test_score)"
      ],
      "execution_count": null,
      "outputs": [
        {
          "output_type": "stream",
          "text": [
            "[[0.9939393939393939, 0.42168674698795183], [0.9878787878787879, 0.46987951807228917], [0.9848484848484849, 0.3493975903614458], [0.9879154078549849, 0.45121951219512196], [0.9939577039274925, 0.47560975609756095]]\n",
            "[0.9939393939393939, 0.9878787878787879, 0.9848484848484849, 0.9879154078549849, 0.9939577039274925]\n",
            "[0.42168674698795183, 0.46987951807228917, 0.3493975903614458, 0.45121951219512196, 0.47560975609756095]\n"
          ],
          "name": "stdout"
        }
      ]
    },
    {
      "cell_type": "code",
      "metadata": {
        "colab": {
          "base_uri": "https://localhost:8080/"
        },
        "id": "A5l4IdAKWFKD",
        "outputId": "f707eea2-1494-4274-eb3f-4b925a5d2035"
      },
      "source": [
        "train_score= np.array(train_score)\n",
        "test_score = np.array(test_score)\n",
        "print(np.average(train_score))\n",
        "print(np.average(test_score))"
      ],
      "execution_count": null,
      "outputs": [
        {
          "output_type": "stream",
          "text": [
            "0.9897079556898289\n",
            "0.4335586247428739\n"
          ],
          "name": "stdout"
        }
      ]
    },
    {
      "cell_type": "code",
      "metadata": {
        "colab": {
          "base_uri": "https://localhost:8080/"
        },
        "id": "Fuw7VF56_Boz",
        "outputId": "f822eaf3-c360-4eb7-f239-541f127da2d4"
      },
      "source": [
        "scores"
      ],
      "execution_count": null,
      "outputs": [
        {
          "output_type": "execute_result",
          "data": {
            "text/plain": [
              "[0.9890909090909091, 0.9927272727272727, 0.9927536231884058]"
            ]
          },
          "metadata": {
            "tags": []
          },
          "execution_count": 27
        }
      ]
    },
    {
      "cell_type": "code",
      "metadata": {
        "id": "RkakoReAH1Mc"
      },
      "source": [
        "import numpy as np\n",
        "scores = np.array(scores)"
      ],
      "execution_count": null,
      "outputs": []
    },
    {
      "cell_type": "code",
      "metadata": {
        "colab": {
          "base_uri": "https://localhost:8080/"
        },
        "id": "awg6DRAdJIll",
        "outputId": "82b7562a-c5aa-476d-f65d-985a58b6acb4"
      },
      "source": [
        "np.average(scores)"
      ],
      "execution_count": null,
      "outputs": [
        {
          "output_type": "execute_result",
          "data": {
            "text/plain": [
              "0.9915239350021959"
            ]
          },
          "metadata": {
            "tags": []
          },
          "execution_count": 31
        }
      ]
    },
    {
      "cell_type": "code",
      "metadata": {
        "colab": {
          "base_uri": "https://localhost:8080/",
          "height": 474
        },
        "id": "aPbHJ4Dp8LUR",
        "outputId": "1662ab1f-9074-4320-ed09-7b06ef1ea94d"
      },
      "source": [
        "import numpy as np\n",
        "X_folds = np.array_split(X_Data, 2)\n",
        "y_folds = np.array_split(Y_Data, 2)\n",
        "scores = list()\n",
        "for k in range(3):\n",
        "    # We use 'list' to copy, in order to 'pop' later on\n",
        "    X_Data = list(X_folds)\n",
        "    X_test = X_Data.pop(k)\n",
        "    X_Data = np.concatenate(X_Data)\n",
        "    Y_Data = list(y_folds)\n",
        "    Y_test = Y_Data.pop(k)\n",
        "    Y_Data = np.concatenate(Y_Data)\n",
        "    \n",
        "    scores.append(model.fit(X_Data, Y_Data).score(X_test, Y_test))\n",
        "print(scores)"
      ],
      "execution_count": null,
      "outputs": [
        {
          "output_type": "stream",
          "text": [
            "/usr/local/lib/python3.7/dist-packages/sklearn/preprocessing/_label.py:235: DataConversionWarning: A column-vector y was passed when a 1d array was expected. Please change the shape of y to (n_samples, ), for example using ravel().\n",
            "  y = column_or_1d(y, warn=True)\n",
            "/usr/local/lib/python3.7/dist-packages/sklearn/preprocessing/_label.py:268: DataConversionWarning: A column-vector y was passed when a 1d array was expected. Please change the shape of y to (n_samples, ), for example using ravel().\n",
            "  y = column_or_1d(y, warn=True)\n"
          ],
          "name": "stderr"
        },
        {
          "output_type": "error",
          "ename": "ValueError",
          "evalue": "ignored",
          "traceback": [
            "\u001b[0;31m---------------------------------------------------------------------------\u001b[0m",
            "\u001b[0;31mValueError\u001b[0m                                Traceback (most recent call last)",
            "\u001b[0;32m<ipython-input-98-e1fbe63d9363>\u001b[0m in \u001b[0;36m<module>\u001b[0;34m()\u001b[0m\n\u001b[1;32m     11\u001b[0m     \u001b[0mY_test\u001b[0m \u001b[0;34m=\u001b[0m \u001b[0mY_Data\u001b[0m\u001b[0;34m.\u001b[0m\u001b[0mpop\u001b[0m\u001b[0;34m(\u001b[0m\u001b[0mk\u001b[0m\u001b[0;34m)\u001b[0m\u001b[0;34m\u001b[0m\u001b[0;34m\u001b[0m\u001b[0m\n\u001b[1;32m     12\u001b[0m     \u001b[0mY_Data\u001b[0m \u001b[0;34m=\u001b[0m \u001b[0mnp\u001b[0m\u001b[0;34m.\u001b[0m\u001b[0mconcatenate\u001b[0m\u001b[0;34m(\u001b[0m\u001b[0mY_Data\u001b[0m\u001b[0;34m)\u001b[0m\u001b[0;34m\u001b[0m\u001b[0;34m\u001b[0m\u001b[0m\n\u001b[0;32m---> 13\u001b[0;31m     \u001b[0mscores\u001b[0m\u001b[0;34m.\u001b[0m\u001b[0mappend\u001b[0m\u001b[0;34m(\u001b[0m\u001b[0mmodel\u001b[0m\u001b[0;34m.\u001b[0m\u001b[0mfit\u001b[0m\u001b[0;34m(\u001b[0m\u001b[0mX_Data\u001b[0m\u001b[0;34m,\u001b[0m \u001b[0mY_Data\u001b[0m\u001b[0;34m)\u001b[0m\u001b[0;34m.\u001b[0m\u001b[0mscore\u001b[0m\u001b[0;34m(\u001b[0m\u001b[0mX_test\u001b[0m\u001b[0;34m,\u001b[0m \u001b[0mY_test\u001b[0m\u001b[0;34m)\u001b[0m\u001b[0;34m)\u001b[0m\u001b[0;34m\u001b[0m\u001b[0;34m\u001b[0m\u001b[0m\n\u001b[0m\u001b[1;32m     14\u001b[0m \u001b[0mprint\u001b[0m\u001b[0;34m(\u001b[0m\u001b[0mscores\u001b[0m\u001b[0;34m)\u001b[0m\u001b[0;34m\u001b[0m\u001b[0;34m\u001b[0m\u001b[0m\n",
            "\u001b[0;32m/usr/local/lib/python3.7/dist-packages/xgboost/sklearn.py\u001b[0m in \u001b[0;36mfit\u001b[0;34m(self, X, y, sample_weight, eval_set, eval_metric, early_stopping_rounds, verbose, xgb_model, sample_weight_eval_set, callbacks)\u001b[0m\n\u001b[1;32m    724\u001b[0m         \u001b[0;32melse\u001b[0m\u001b[0;34m:\u001b[0m\u001b[0;34m\u001b[0m\u001b[0;34m\u001b[0m\u001b[0m\n\u001b[1;32m    725\u001b[0m             train_dmatrix = DMatrix(X, label=training_labels,\n\u001b[0;32m--> 726\u001b[0;31m                                     missing=self.missing, nthread=self.n_jobs)\n\u001b[0m\u001b[1;32m    727\u001b[0m \u001b[0;34m\u001b[0m\u001b[0m\n\u001b[1;32m    728\u001b[0m         self._Booster = train(xgb_options, train_dmatrix, self.get_num_boosting_rounds(),\n",
            "\u001b[0;32m/usr/local/lib/python3.7/dist-packages/xgboost/core.py\u001b[0m in \u001b[0;36m__init__\u001b[0;34m(self, data, label, missing, weight, silent, feature_names, feature_types, nthread)\u001b[0m\n\u001b[1;32m    402\u001b[0m             \u001b[0mself\u001b[0m\u001b[0;34m.\u001b[0m\u001b[0m_init_from_csc\u001b[0m\u001b[0;34m(\u001b[0m\u001b[0mdata\u001b[0m\u001b[0;34m)\u001b[0m\u001b[0;34m\u001b[0m\u001b[0;34m\u001b[0m\u001b[0m\n\u001b[1;32m    403\u001b[0m         \u001b[0;32melif\u001b[0m \u001b[0misinstance\u001b[0m\u001b[0;34m(\u001b[0m\u001b[0mdata\u001b[0m\u001b[0;34m,\u001b[0m \u001b[0mnp\u001b[0m\u001b[0;34m.\u001b[0m\u001b[0mndarray\u001b[0m\u001b[0;34m)\u001b[0m\u001b[0;34m:\u001b[0m\u001b[0;34m\u001b[0m\u001b[0;34m\u001b[0m\u001b[0m\n\u001b[0;32m--> 404\u001b[0;31m             \u001b[0mself\u001b[0m\u001b[0;34m.\u001b[0m\u001b[0m_init_from_npy2d\u001b[0m\u001b[0;34m(\u001b[0m\u001b[0mdata\u001b[0m\u001b[0;34m,\u001b[0m \u001b[0mmissing\u001b[0m\u001b[0;34m,\u001b[0m \u001b[0mnthread\u001b[0m\u001b[0;34m)\u001b[0m\u001b[0;34m\u001b[0m\u001b[0;34m\u001b[0m\u001b[0m\n\u001b[0m\u001b[1;32m    405\u001b[0m         \u001b[0;32melif\u001b[0m \u001b[0misinstance\u001b[0m\u001b[0;34m(\u001b[0m\u001b[0mdata\u001b[0m\u001b[0;34m,\u001b[0m \u001b[0mDataTable\u001b[0m\u001b[0;34m)\u001b[0m\u001b[0;34m:\u001b[0m\u001b[0;34m\u001b[0m\u001b[0;34m\u001b[0m\u001b[0m\n\u001b[1;32m    406\u001b[0m             \u001b[0mself\u001b[0m\u001b[0;34m.\u001b[0m\u001b[0m_init_from_dt\u001b[0m\u001b[0;34m(\u001b[0m\u001b[0mdata\u001b[0m\u001b[0;34m,\u001b[0m \u001b[0mnthread\u001b[0m\u001b[0;34m)\u001b[0m\u001b[0;34m\u001b[0m\u001b[0;34m\u001b[0m\u001b[0m\n",
            "\u001b[0;32m/usr/local/lib/python3.7/dist-packages/xgboost/core.py\u001b[0m in \u001b[0;36m_init_from_npy2d\u001b[0;34m(self, mat, missing, nthread)\u001b[0m\n\u001b[1;32m    472\u001b[0m         \"\"\"\n\u001b[1;32m    473\u001b[0m         \u001b[0;32mif\u001b[0m \u001b[0mlen\u001b[0m\u001b[0;34m(\u001b[0m\u001b[0mmat\u001b[0m\u001b[0;34m.\u001b[0m\u001b[0mshape\u001b[0m\u001b[0;34m)\u001b[0m \u001b[0;34m!=\u001b[0m \u001b[0;36m2\u001b[0m\u001b[0;34m:\u001b[0m\u001b[0;34m\u001b[0m\u001b[0;34m\u001b[0m\u001b[0m\n\u001b[0;32m--> 474\u001b[0;31m             \u001b[0;32mraise\u001b[0m \u001b[0mValueError\u001b[0m\u001b[0;34m(\u001b[0m\u001b[0;34m'Input numpy.ndarray must be 2 dimensional'\u001b[0m\u001b[0;34m)\u001b[0m\u001b[0;34m\u001b[0m\u001b[0;34m\u001b[0m\u001b[0m\n\u001b[0m\u001b[1;32m    475\u001b[0m         \u001b[0;31m# flatten the array by rows and ensure it is float32.\u001b[0m\u001b[0;34m\u001b[0m\u001b[0;34m\u001b[0m\u001b[0;34m\u001b[0m\u001b[0m\n\u001b[1;32m    476\u001b[0m         \u001b[0;31m# we try to avoid data copies if possible (reshape returns a view when possible\u001b[0m\u001b[0;34m\u001b[0m\u001b[0;34m\u001b[0m\u001b[0;34m\u001b[0m\u001b[0m\n",
            "\u001b[0;31mValueError\u001b[0m: Input numpy.ndarray must be 2 dimensional"
          ]
        }
      ]
    },
    {
      "cell_type": "code",
      "metadata": {
        "colab": {
          "base_uri": "https://localhost:8080/"
        },
        "id": "8xysHTOhA8Ke",
        "outputId": "f9eac5de-582d-4664-dc7d-326385ab4b87"
      },
      "source": [
        "X_Data[0]"
      ],
      "execution_count": null,
      "outputs": [
        {
          "output_type": "execute_result",
          "data": {
            "text/plain": [
              "array([[[0.],\n",
              "        [0.],\n",
              "        [0.],\n",
              "        ...,\n",
              "        [0.],\n",
              "        [0.],\n",
              "        [0.]],\n",
              "\n",
              "       [[0.],\n",
              "        [0.],\n",
              "        [0.],\n",
              "        ...,\n",
              "        [0.],\n",
              "        [0.],\n",
              "        [0.]],\n",
              "\n",
              "       [[0.],\n",
              "        [0.],\n",
              "        [0.],\n",
              "        ...,\n",
              "        [0.],\n",
              "        [0.],\n",
              "        [0.]],\n",
              "\n",
              "       ...,\n",
              "\n",
              "       [[0.],\n",
              "        [0.],\n",
              "        [0.],\n",
              "        ...,\n",
              "        [0.],\n",
              "        [0.],\n",
              "        [0.]],\n",
              "\n",
              "       [[0.],\n",
              "        [0.],\n",
              "        [0.],\n",
              "        ...,\n",
              "        [0.],\n",
              "        [0.],\n",
              "        [0.]],\n",
              "\n",
              "       [[0.],\n",
              "        [0.],\n",
              "        [0.],\n",
              "        ...,\n",
              "        [0.],\n",
              "        [0.],\n",
              "        [0.]]])"
            ]
          },
          "metadata": {
            "tags": []
          },
          "execution_count": 99
        }
      ]
    },
    {
      "cell_type": "code",
      "metadata": {
        "id": "kNENc737BmwR"
      },
      "source": [
        ""
      ],
      "execution_count": null,
      "outputs": []
    }
  ]
}